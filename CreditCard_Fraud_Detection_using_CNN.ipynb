{
  "cells": [
    {
      "cell_type": "markdown",
      "id": "660f4bf8",
      "metadata": {
        "id": "660f4bf8"
      },
      "source": [
        "# Credit Card Fraud Detection"
      ]
    },
    {
      "cell_type": "markdown",
      "source": [
        "We will perform CNN on Credit Card Dataset to check whether the transactions are fraud or not"
      ],
      "metadata": {
        "id": "dm8wmEsI0VFi"
      },
      "id": "dm8wmEsI0VFi"
    },
    {
      "cell_type": "code",
      "execution_count": 125,
      "id": "71cd468c",
      "metadata": {
        "id": "71cd468c"
      },
      "outputs": [],
      "source": [
        "#importing all libraries\n",
        "import numpy as np\n",
        "import pandas as pd\n",
        "import matplotlib.pyplot as plt\n",
        "import seaborn as sns\n",
        "from sklearn.model_selection import train_test_split\n",
        "from sklearn.preprocessing import StandardScaler"
      ]
    },
    {
      "cell_type": "code",
      "execution_count": 126,
      "id": "b22d7ca0",
      "metadata": {
        "id": "b22d7ca0"
      },
      "outputs": [],
      "source": [
        "#!pip install tensorflow\n",
        "#!pip install keras"
      ]
    },
    {
      "cell_type": "code",
      "execution_count": 127,
      "id": "9a812caf",
      "metadata": {
        "id": "9a812caf"
      },
      "outputs": [],
      "source": [
        "import tensorflow as tf\n",
        "import keras"
      ]
    },
    {
      "cell_type": "code",
      "source": [
        "# import the dataset          //Link - https://drive.google.com/file/d/14zhegeC6vkjURGXPayPvHGem0BvSlhU3/view?usp=sharing\n",
        "data=pd.read_csv('./creditcard.csv.zip')\n",
        "data.head()"
      ],
      "metadata": {
        "colab": {
          "base_uri": "https://localhost:8080/",
          "height": 299
        },
        "id": "3H9WN9v2zAxr",
        "outputId": "4a39be93-d5fa-4c6f-e0b3-bf2881025cdf"
      },
      "id": "3H9WN9v2zAxr",
      "execution_count": 128,
      "outputs": [
        {
          "output_type": "execute_result",
          "data": {
            "text/plain": [
              "   Time        V1        V2        V3        V4        V5        V6        V7  \\\n",
              "0   0.0 -1.359807 -0.072781  2.536347  1.378155 -0.338321  0.462388  0.239599   \n",
              "1   0.0  1.191857  0.266151  0.166480  0.448154  0.060018 -0.082361 -0.078803   \n",
              "2   1.0 -1.358354 -1.340163  1.773209  0.379780 -0.503198  1.800499  0.791461   \n",
              "3   1.0 -0.966272 -0.185226  1.792993 -0.863291 -0.010309  1.247203  0.237609   \n",
              "4   2.0 -1.158233  0.877737  1.548718  0.403034 -0.407193  0.095921  0.592941   \n",
              "\n",
              "         V8        V9  ...       V21       V22       V23       V24       V25  \\\n",
              "0  0.098698  0.363787  ... -0.018307  0.277838 -0.110474  0.066928  0.128539   \n",
              "1  0.085102 -0.255425  ... -0.225775 -0.638672  0.101288 -0.339846  0.167170   \n",
              "2  0.247676 -1.514654  ...  0.247998  0.771679  0.909412 -0.689281 -0.327642   \n",
              "3  0.377436 -1.387024  ... -0.108300  0.005274 -0.190321 -1.175575  0.647376   \n",
              "4 -0.270533  0.817739  ... -0.009431  0.798278 -0.137458  0.141267 -0.206010   \n",
              "\n",
              "        V26       V27       V28  Amount  Class  \n",
              "0 -0.189115  0.133558 -0.021053  149.62      0  \n",
              "1  0.125895 -0.008983  0.014724    2.69      0  \n",
              "2 -0.139097 -0.055353 -0.059752  378.66      0  \n",
              "3 -0.221929  0.062723  0.061458  123.50      0  \n",
              "4  0.502292  0.219422  0.215153   69.99      0  \n",
              "\n",
              "[5 rows x 31 columns]"
            ],
            "text/html": [
              "\n",
              "  <div id=\"df-27f5db8e-2e62-4e9a-bfa8-3130657d9516\">\n",
              "    <div class=\"colab-df-container\">\n",
              "      <div>\n",
              "<style scoped>\n",
              "    .dataframe tbody tr th:only-of-type {\n",
              "        vertical-align: middle;\n",
              "    }\n",
              "\n",
              "    .dataframe tbody tr th {\n",
              "        vertical-align: top;\n",
              "    }\n",
              "\n",
              "    .dataframe thead th {\n",
              "        text-align: right;\n",
              "    }\n",
              "</style>\n",
              "<table border=\"1\" class=\"dataframe\">\n",
              "  <thead>\n",
              "    <tr style=\"text-align: right;\">\n",
              "      <th></th>\n",
              "      <th>Time</th>\n",
              "      <th>V1</th>\n",
              "      <th>V2</th>\n",
              "      <th>V3</th>\n",
              "      <th>V4</th>\n",
              "      <th>V5</th>\n",
              "      <th>V6</th>\n",
              "      <th>V7</th>\n",
              "      <th>V8</th>\n",
              "      <th>V9</th>\n",
              "      <th>...</th>\n",
              "      <th>V21</th>\n",
              "      <th>V22</th>\n",
              "      <th>V23</th>\n",
              "      <th>V24</th>\n",
              "      <th>V25</th>\n",
              "      <th>V26</th>\n",
              "      <th>V27</th>\n",
              "      <th>V28</th>\n",
              "      <th>Amount</th>\n",
              "      <th>Class</th>\n",
              "    </tr>\n",
              "  </thead>\n",
              "  <tbody>\n",
              "    <tr>\n",
              "      <th>0</th>\n",
              "      <td>0.0</td>\n",
              "      <td>-1.359807</td>\n",
              "      <td>-0.072781</td>\n",
              "      <td>2.536347</td>\n",
              "      <td>1.378155</td>\n",
              "      <td>-0.338321</td>\n",
              "      <td>0.462388</td>\n",
              "      <td>0.239599</td>\n",
              "      <td>0.098698</td>\n",
              "      <td>0.363787</td>\n",
              "      <td>...</td>\n",
              "      <td>-0.018307</td>\n",
              "      <td>0.277838</td>\n",
              "      <td>-0.110474</td>\n",
              "      <td>0.066928</td>\n",
              "      <td>0.128539</td>\n",
              "      <td>-0.189115</td>\n",
              "      <td>0.133558</td>\n",
              "      <td>-0.021053</td>\n",
              "      <td>149.62</td>\n",
              "      <td>0</td>\n",
              "    </tr>\n",
              "    <tr>\n",
              "      <th>1</th>\n",
              "      <td>0.0</td>\n",
              "      <td>1.191857</td>\n",
              "      <td>0.266151</td>\n",
              "      <td>0.166480</td>\n",
              "      <td>0.448154</td>\n",
              "      <td>0.060018</td>\n",
              "      <td>-0.082361</td>\n",
              "      <td>-0.078803</td>\n",
              "      <td>0.085102</td>\n",
              "      <td>-0.255425</td>\n",
              "      <td>...</td>\n",
              "      <td>-0.225775</td>\n",
              "      <td>-0.638672</td>\n",
              "      <td>0.101288</td>\n",
              "      <td>-0.339846</td>\n",
              "      <td>0.167170</td>\n",
              "      <td>0.125895</td>\n",
              "      <td>-0.008983</td>\n",
              "      <td>0.014724</td>\n",
              "      <td>2.69</td>\n",
              "      <td>0</td>\n",
              "    </tr>\n",
              "    <tr>\n",
              "      <th>2</th>\n",
              "      <td>1.0</td>\n",
              "      <td>-1.358354</td>\n",
              "      <td>-1.340163</td>\n",
              "      <td>1.773209</td>\n",
              "      <td>0.379780</td>\n",
              "      <td>-0.503198</td>\n",
              "      <td>1.800499</td>\n",
              "      <td>0.791461</td>\n",
              "      <td>0.247676</td>\n",
              "      <td>-1.514654</td>\n",
              "      <td>...</td>\n",
              "      <td>0.247998</td>\n",
              "      <td>0.771679</td>\n",
              "      <td>0.909412</td>\n",
              "      <td>-0.689281</td>\n",
              "      <td>-0.327642</td>\n",
              "      <td>-0.139097</td>\n",
              "      <td>-0.055353</td>\n",
              "      <td>-0.059752</td>\n",
              "      <td>378.66</td>\n",
              "      <td>0</td>\n",
              "    </tr>\n",
              "    <tr>\n",
              "      <th>3</th>\n",
              "      <td>1.0</td>\n",
              "      <td>-0.966272</td>\n",
              "      <td>-0.185226</td>\n",
              "      <td>1.792993</td>\n",
              "      <td>-0.863291</td>\n",
              "      <td>-0.010309</td>\n",
              "      <td>1.247203</td>\n",
              "      <td>0.237609</td>\n",
              "      <td>0.377436</td>\n",
              "      <td>-1.387024</td>\n",
              "      <td>...</td>\n",
              "      <td>-0.108300</td>\n",
              "      <td>0.005274</td>\n",
              "      <td>-0.190321</td>\n",
              "      <td>-1.175575</td>\n",
              "      <td>0.647376</td>\n",
              "      <td>-0.221929</td>\n",
              "      <td>0.062723</td>\n",
              "      <td>0.061458</td>\n",
              "      <td>123.50</td>\n",
              "      <td>0</td>\n",
              "    </tr>\n",
              "    <tr>\n",
              "      <th>4</th>\n",
              "      <td>2.0</td>\n",
              "      <td>-1.158233</td>\n",
              "      <td>0.877737</td>\n",
              "      <td>1.548718</td>\n",
              "      <td>0.403034</td>\n",
              "      <td>-0.407193</td>\n",
              "      <td>0.095921</td>\n",
              "      <td>0.592941</td>\n",
              "      <td>-0.270533</td>\n",
              "      <td>0.817739</td>\n",
              "      <td>...</td>\n",
              "      <td>-0.009431</td>\n",
              "      <td>0.798278</td>\n",
              "      <td>-0.137458</td>\n",
              "      <td>0.141267</td>\n",
              "      <td>-0.206010</td>\n",
              "      <td>0.502292</td>\n",
              "      <td>0.219422</td>\n",
              "      <td>0.215153</td>\n",
              "      <td>69.99</td>\n",
              "      <td>0</td>\n",
              "    </tr>\n",
              "  </tbody>\n",
              "</table>\n",
              "<p>5 rows × 31 columns</p>\n",
              "</div>\n",
              "      <button class=\"colab-df-convert\" onclick=\"convertToInteractive('df-27f5db8e-2e62-4e9a-bfa8-3130657d9516')\"\n",
              "              title=\"Convert this dataframe to an interactive table.\"\n",
              "              style=\"display:none;\">\n",
              "        \n",
              "  <svg xmlns=\"http://www.w3.org/2000/svg\" height=\"24px\"viewBox=\"0 0 24 24\"\n",
              "       width=\"24px\">\n",
              "    <path d=\"M0 0h24v24H0V0z\" fill=\"none\"/>\n",
              "    <path d=\"M18.56 5.44l.94 2.06.94-2.06 2.06-.94-2.06-.94-.94-2.06-.94 2.06-2.06.94zm-11 1L8.5 8.5l.94-2.06 2.06-.94-2.06-.94L8.5 2.5l-.94 2.06-2.06.94zm10 10l.94 2.06.94-2.06 2.06-.94-2.06-.94-.94-2.06-.94 2.06-2.06.94z\"/><path d=\"M17.41 7.96l-1.37-1.37c-.4-.4-.92-.59-1.43-.59-.52 0-1.04.2-1.43.59L10.3 9.45l-7.72 7.72c-.78.78-.78 2.05 0 2.83L4 21.41c.39.39.9.59 1.41.59.51 0 1.02-.2 1.41-.59l7.78-7.78 2.81-2.81c.8-.78.8-2.07 0-2.86zM5.41 20L4 18.59l7.72-7.72 1.47 1.35L5.41 20z\"/>\n",
              "  </svg>\n",
              "      </button>\n",
              "      \n",
              "  <style>\n",
              "    .colab-df-container {\n",
              "      display:flex;\n",
              "      flex-wrap:wrap;\n",
              "      gap: 12px;\n",
              "    }\n",
              "\n",
              "    .colab-df-convert {\n",
              "      background-color: #E8F0FE;\n",
              "      border: none;\n",
              "      border-radius: 50%;\n",
              "      cursor: pointer;\n",
              "      display: none;\n",
              "      fill: #1967D2;\n",
              "      height: 32px;\n",
              "      padding: 0 0 0 0;\n",
              "      width: 32px;\n",
              "    }\n",
              "\n",
              "    .colab-df-convert:hover {\n",
              "      background-color: #E2EBFA;\n",
              "      box-shadow: 0px 1px 2px rgba(60, 64, 67, 0.3), 0px 1px 3px 1px rgba(60, 64, 67, 0.15);\n",
              "      fill: #174EA6;\n",
              "    }\n",
              "\n",
              "    [theme=dark] .colab-df-convert {\n",
              "      background-color: #3B4455;\n",
              "      fill: #D2E3FC;\n",
              "    }\n",
              "\n",
              "    [theme=dark] .colab-df-convert:hover {\n",
              "      background-color: #434B5C;\n",
              "      box-shadow: 0px 1px 3px 1px rgba(0, 0, 0, 0.15);\n",
              "      filter: drop-shadow(0px 1px 2px rgba(0, 0, 0, 0.3));\n",
              "      fill: #FFFFFF;\n",
              "    }\n",
              "  </style>\n",
              "\n",
              "      <script>\n",
              "        const buttonEl =\n",
              "          document.querySelector('#df-27f5db8e-2e62-4e9a-bfa8-3130657d9516 button.colab-df-convert');\n",
              "        buttonEl.style.display =\n",
              "          google.colab.kernel.accessAllowed ? 'block' : 'none';\n",
              "\n",
              "        async function convertToInteractive(key) {\n",
              "          const element = document.querySelector('#df-27f5db8e-2e62-4e9a-bfa8-3130657d9516');\n",
              "          const dataTable =\n",
              "            await google.colab.kernel.invokeFunction('convertToInteractive',\n",
              "                                                     [key], {});\n",
              "          if (!dataTable) return;\n",
              "\n",
              "          const docLinkHtml = 'Like what you see? Visit the ' +\n",
              "            '<a target=\"_blank\" href=https://colab.research.google.com/notebooks/data_table.ipynb>data table notebook</a>'\n",
              "            + ' to learn more about interactive tables.';\n",
              "          element.innerHTML = '';\n",
              "          dataTable['output_type'] = 'display_data';\n",
              "          await google.colab.output.renderOutput(dataTable, element);\n",
              "          const docLink = document.createElement('div');\n",
              "          docLink.innerHTML = docLinkHtml;\n",
              "          element.appendChild(docLink);\n",
              "        }\n",
              "      </script>\n",
              "    </div>\n",
              "  </div>\n",
              "  "
            ]
          },
          "metadata": {},
          "execution_count": 128
        }
      ]
    },
    {
      "cell_type": "code",
      "source": [
        "#check the shape of our dataset\n",
        "data.shape"
      ],
      "metadata": {
        "id": "j3_OLZ2szSSa",
        "colab": {
          "base_uri": "https://localhost:8080/"
        },
        "outputId": "13bf156d-52f2-44dc-8712-8ffad5cfa797"
      },
      "id": "j3_OLZ2szSSa",
      "execution_count": 129,
      "outputs": [
        {
          "output_type": "execute_result",
          "data": {
            "text/plain": [
              "(284807, 31)"
            ]
          },
          "metadata": {},
          "execution_count": 129
        }
      ]
    },
    {
      "cell_type": "code",
      "source": [
        "data.hist(figsize=(20,20),color='red')\n",
        "plt.show()"
      ],
      "metadata": {
        "id": "2bnXHGKlkxkG",
        "outputId": "b54ee6d9-724a-4155-f8de-2c6a9eeb6e34",
        "colab": {
          "base_uri": "https://localhost:8080/",
          "height": 1000
        }
      },
      "id": "2bnXHGKlkxkG",
      "execution_count": 130,
      "outputs": [
        {
          "output_type": "display_data",
          "data": {
            "text/plain": [
              "<Figure size 1440x1440 with 36 Axes>"
            ],
            "image/png": "[encoded data removed]"
          },
          "metadata": {
            "needs_background": "light"
          }
        }
      ]
    },
    {
      "cell_type": "markdown",
      "source": [
        "correlation"
      ],
      "metadata": {
        "id": "1hlkZZvYk8Lv"
      },
      "id": "1hlkZZvYk8Lv"
    },
    {
      "cell_type": "code",
      "source": [
        "plt.figure(figsize=(10,8))\n",
        "corr=data.corr()\n",
        "sns.heatmap(corr,cmap='BuPu')"
      ],
      "metadata": {
        "id": "C13CKgbjk8j1",
        "outputId": "ea0d6392-0d3b-4a77-ff24-0058f6bd7b6e",
        "colab": {
          "base_uri": "https://localhost:8080/",
          "height": 533
        }
      },
      "id": "C13CKgbjk8j1",
      "execution_count": 131,
      "outputs": [
        {
          "output_type": "execute_result",
          "data": {
            "text/plain": [
              "<matplotlib.axes._subplots.AxesSubplot at 0x7f6a6c2ef290>"
            ]
          },
          "metadata": {},
          "execution_count": 131
        },
        {
          "output_type": "display_data",
          "data": {
            "text/plain": [
              "<Figure size 720x576 with 2 Axes>"
            ],
            "image/png": "[encoded data removed]"
          },
          "metadata": {
            "needs_background": "light"
          }
        }
      ]
    },
    {
      "cell_type": "markdown",
      "source": [
        "Here there are 31 columns and the last column is the target variable named Class"
      ],
      "metadata": {
        "id": "Gbhm5eXn0lBd"
      },
      "id": "Gbhm5eXn0lBd"
    },
    {
      "cell_type": "code",
      "source": [
        "#we will check if there are any null values in the dataset\n",
        "data.isnull().sum()"
      ],
      "metadata": {
        "id": "X1gRxX9BzyGr",
        "colab": {
          "base_uri": "https://localhost:8080/"
        },
        "outputId": "bfbe8c62-73c7-4d05-fc40-eb2bed4d75c8"
      },
      "id": "X1gRxX9BzyGr",
      "execution_count": 132,
      "outputs": [
        {
          "output_type": "execute_result",
          "data": {
            "text/plain": [
              "Time      0\n",
              "V1        0\n",
              "V2        0\n",
              "V3        0\n",
              "V4        0\n",
              "V5        0\n",
              "V6        0\n",
              "V7        0\n",
              "V8        0\n",
              "V9        0\n",
              "V10       0\n",
              "V11       0\n",
              "V12       0\n",
              "V13       0\n",
              "V14       0\n",
              "V15       0\n",
              "V16       0\n",
              "V17       0\n",
              "V18       0\n",
              "V19       0\n",
              "V20       0\n",
              "V21       0\n",
              "V22       0\n",
              "V23       0\n",
              "V24       0\n",
              "V25       0\n",
              "V26       0\n",
              "V27       0\n",
              "V28       0\n",
              "Amount    0\n",
              "Class     0\n",
              "dtype: int64"
            ]
          },
          "metadata": {},
          "execution_count": 132
        }
      ]
    },
    {
      "cell_type": "markdown",
      "source": [
        "We can see that there is no null value in the dataset"
      ],
      "metadata": {
        "id": "xJw0jGp308p1"
      },
      "id": "xJw0jGp308p1"
    },
    {
      "cell_type": "code",
      "source": [
        "data.info()"
      ],
      "metadata": {
        "id": "b_udPQ_Ez4nq",
        "colab": {
          "base_uri": "https://localhost:8080/"
        },
        "outputId": "140f0428-69af-4f87-d651-a8569ba0be5e"
      },
      "id": "b_udPQ_Ez4nq",
      "execution_count": 133,
      "outputs": [
        {
          "output_type": "stream",
          "name": "stdout",
          "text": [
            "<class 'pandas.core.frame.DataFrame'>\n",
            "RangeIndex: 284807 entries, 0 to 284806\n",
            "Data columns (total 31 columns):\n",
            " #   Column  Non-Null Count   Dtype  \n",
            "---  ------  --------------   -----  \n",
            " 0   Time    284807 non-null  float64\n",
            " 1   V1      284807 non-null  float64\n",
            " 2   V2      284807 non-null  float64\n",
            " 3   V3      284807 non-null  float64\n",
            " 4   V4      284807 non-null  float64\n",
            " 5   V5      284807 non-null  float64\n",
            " 6   V6      284807 non-null  float64\n",
            " 7   V7      284807 non-null  float64\n",
            " 8   V8      284807 non-null  float64\n",
            " 9   V9      284807 non-null  float64\n",
            " 10  V10     284807 non-null  float64\n",
            " 11  V11     284807 non-null  float64\n",
            " 12  V12     284807 non-null  float64\n",
            " 13  V13     284807 non-null  float64\n",
            " 14  V14     284807 non-null  float64\n",
            " 15  V15     284807 non-null  float64\n",
            " 16  V16     284807 non-null  float64\n",
            " 17  V17     284807 non-null  float64\n",
            " 18  V18     284807 non-null  float64\n",
            " 19  V19     284807 non-null  float64\n",
            " 20  V20     284807 non-null  float64\n",
            " 21  V21     284807 non-null  float64\n",
            " 22  V22     284807 non-null  float64\n",
            " 23  V23     284807 non-null  float64\n",
            " 24  V24     284807 non-null  float64\n",
            " 25  V25     284807 non-null  float64\n",
            " 26  V26     284807 non-null  float64\n",
            " 27  V27     284807 non-null  float64\n",
            " 28  V28     284807 non-null  float64\n",
            " 29  Amount  284807 non-null  float64\n",
            " 30  Class   284807 non-null  int64  \n",
            "dtypes: float64(30), int64(1)\n",
            "memory usage: 67.4 MB\n"
          ]
        }
      ]
    },
    {
      "cell_type": "code",
      "source": [
        "#checking that how many values are present in the 'class' having values as 0 or 1\n",
        "data['Class'].value_counts()"
      ],
      "metadata": {
        "id": "BoiNMhh3z-6W",
        "colab": {
          "base_uri": "https://localhost:8080/"
        },
        "outputId": "dc5edfe3-c419-404d-ba87-f9c5c9498926"
      },
      "id": "BoiNMhh3z-6W",
      "execution_count": 134,
      "outputs": [
        {
          "output_type": "execute_result",
          "data": {
            "text/plain": [
              "0    284315\n",
              "1       492\n",
              "Name: Class, dtype: int64"
            ]
          },
          "metadata": {},
          "execution_count": 134
        }
      ]
    },
    {
      "cell_type": "code",
      "source": [
        "#visual representation of instances per class\n",
        "data.Class.value_counts().plot.bar()"
      ],
      "metadata": {
        "id": "Lp38DIrllJw6",
        "outputId": "544b84ef-a08f-4246-eaf0-f91d9d29153a",
        "colab": {
          "base_uri": "https://localhost:8080/",
          "height": 279
        }
      },
      "id": "Lp38DIrllJw6",
      "execution_count": 135,
      "outputs": [
        {
          "output_type": "execute_result",
          "data": {
            "text/plain": [
              "<matplotlib.axes._subplots.AxesSubplot at 0x7f6a6e1f0a50>"
            ]
          },
          "metadata": {},
          "execution_count": 135
        },
        {
          "output_type": "display_data",
          "data": {
            "text/plain": [
              "<Figure size 432x288 with 1 Axes>"
            ],
            "image/png": "[encoded data removed]"
          },
          "metadata": {
            "needs_background": "light"
          }
        }
      ]
    },
    {
      "cell_type": "markdown",
      "source": [
        "Here there are legitimate 284315 transactions and the transactions which are fraud are only 492.\n",
        "So we can say that data is highly imbalanced, we have to balance the dataset"
      ],
      "metadata": {
        "id": "zzKo1jcb1Oft"
      },
      "id": "zzKo1jcb1Oft"
    },
    {
      "cell_type": "code",
      "source": [
        "#dividing the dataframe into fraud and non fraud data\n",
        "non_fraud=data[data['Class']==0]\n",
        "fraud=data[data['Class']==1]"
      ],
      "metadata": {
        "id": "LoHKaiR41njq"
      },
      "id": "LoHKaiR41njq",
      "execution_count": 136,
      "outputs": []
    },
    {
      "cell_type": "code",
      "source": [
        "non_fraud.shape, fraud.shape"
      ],
      "metadata": {
        "id": "mFFfNiUP1rDI",
        "colab": {
          "base_uri": "https://localhost:8080/"
        },
        "outputId": "65751170-614b-4e8f-9355-69de56b68356"
      },
      "id": "mFFfNiUP1rDI",
      "execution_count": 137,
      "outputs": [
        {
          "output_type": "execute_result",
          "data": {
            "text/plain": [
              "((284315, 31), (492, 31))"
            ]
          },
          "metadata": {},
          "execution_count": 137
        }
      ]
    },
    {
      "cell_type": "markdown",
      "source": [
        "We are going to make the non_fraud data frame of the same size of the fraud.shape to match the entries"
      ],
      "metadata": {
        "id": "RdJDxTqC187G"
      },
      "id": "RdJDxTqC187G"
    },
    {
      "cell_type": "markdown",
      "source": [
        "Balancing the dataset"
      ],
      "metadata": {
        "id": "2_MaesFW2M-N"
      },
      "id": "2_MaesFW2M-N"
    },
    {
      "cell_type": "code",
      "source": [
        "# Now we are randomly going to select the 492 non-fraud entries from the dataframe \n",
        "non_fraud=non_fraud.sample(fraud.shape[0])\n",
        "non_fraud.shape"
      ],
      "metadata": {
        "id": "1Wrrh9au2Jb5",
        "colab": {
          "base_uri": "https://localhost:8080/"
        },
        "outputId": "59847226-476e-4e23-a301-767f6597da0f"
      },
      "id": "1Wrrh9au2Jb5",
      "execution_count": 138,
      "outputs": [
        {
          "output_type": "execute_result",
          "data": {
            "text/plain": [
              "(492, 31)"
            ]
          },
          "metadata": {},
          "execution_count": 138
        }
      ]
    },
    {
      "cell_type": "markdown",
      "source": [
        "Now that we have data that is balanced, we will merge the dataset of non_fraud and fraud transactions"
      ],
      "metadata": {
        "id": "tZ0fZzsi2bZY"
      },
      "id": "tZ0fZzsi2bZY"
    },
    {
      "cell_type": "code",
      "source": [
        "dataset=fraud.append(non_fraud, ignore_index=True)\n",
        "dataset"
      ],
      "metadata": {
        "id": "wnYzG42K2Z9J",
        "colab": {
          "base_uri": "https://localhost:8080/",
          "height": 488
        },
        "outputId": "e5844827-f81d-48fa-869c-167d392790ba"
      },
      "id": "wnYzG42K2Z9J",
      "execution_count": 139,
      "outputs": [
        {
          "output_type": "execute_result",
          "data": {
            "text/plain": [
              "         Time        V1        V2        V3        V4        V5        V6  \\\n",
              "0       406.0 -2.312227  1.951992 -1.609851  3.997906 -0.522188 -1.426545   \n",
              "1       472.0 -3.043541 -3.157307  1.088463  2.288644  1.359805 -1.064823   \n",
              "2      4462.0 -2.303350  1.759247 -0.359745  2.330243 -0.821628 -0.075788   \n",
              "3      6986.0 -4.397974  1.358367 -2.592844  2.679787 -1.128131 -1.706536   \n",
              "4      7519.0  1.234235  3.019740 -4.304597  4.732795  3.624201 -1.357746   \n",
              "..        ...       ...       ...       ...       ...       ...       ...   \n",
              "979  152477.0 -1.209975  0.948509  1.045102 -0.906445 -0.203445  0.324609   \n",
              "980   31804.0  0.876852 -1.378824 -0.089513 -0.140619 -1.471186 -1.203453   \n",
              "981   41170.0  0.862181 -0.466435  0.931324  1.190244 -0.885385  0.126519   \n",
              "982   52185.0  1.082424 -0.260440  0.669593  0.829139 -0.816022 -0.431719   \n",
              "983  105627.0  2.078312  0.141117 -0.960327  0.573950  0.101559 -1.056660   \n",
              "\n",
              "           V7        V8        V9  ...       V21       V22       V23  \\\n",
              "0   -2.537387  1.391657 -2.770089  ...  0.517232 -0.035049 -0.465211   \n",
              "1    0.325574 -0.067794 -0.270953  ...  0.661696  0.435477  1.375966   \n",
              "2    0.562320 -0.399147 -0.238253  ... -0.294166 -0.932391  0.172726   \n",
              "3   -3.496197 -0.248778 -0.247768  ...  0.573574  0.176968 -0.436207   \n",
              "4    1.713445 -0.496358 -1.282858  ... -0.379068 -0.704181 -0.656805   \n",
              "..        ...       ...       ...  ...       ...       ...       ...   \n",
              "979 -0.080531  0.523504  0.606093  ...  0.232800  0.844527 -0.159858   \n",
              "980  0.020258 -0.293517 -0.604150  ... -0.288289 -0.896918 -0.175407   \n",
              "981 -0.453715  0.187509  0.282919  ...  0.220515  0.271159 -0.188417   \n",
              "982 -0.237702  0.096378  0.765726  ... -0.234746 -0.651101  0.122586   \n",
              "983  0.162271 -0.468410  1.670060  ... -0.437363 -0.821883  0.321335   \n",
              "\n",
              "          V24       V25       V26       V27       V28  Amount  Class  \n",
              "0    0.320198  0.044519  0.177840  0.261145 -0.143276    0.00      1  \n",
              "1   -0.293803  0.279798 -0.145362 -0.252773  0.035764  529.00      1  \n",
              "2   -0.087330 -0.156114 -0.542628  0.039566 -0.153029  239.93      1  \n",
              "3   -0.053502  0.252405 -0.657488 -0.827136  0.849573   59.00      1  \n",
              "4   -1.632653  1.488901  0.566797 -0.010016  0.146793    1.00      1  \n",
              "..        ...       ...       ...       ...       ...     ...    ...  \n",
              "979  0.737182 -0.359674  0.456524 -0.099251  0.003949   11.50      0  \n",
              "980  0.727231  0.238578  1.049497 -0.128302  0.043203  267.96      0  \n",
              "981 -0.006221  0.283163 -0.373078  0.026309  0.052731  158.82      0  \n",
              "982  0.380234  0.148136  0.316350 -0.027063  0.017826   47.79      0  \n",
              "983 -0.141311 -0.264243  0.162893 -0.090293 -0.065640    0.89      0  \n",
              "\n",
              "[984 rows x 31 columns]"
            ],
            "text/html": [
              "\n",
              "  <div id=\"df-e258898e-0d85-49b8-8775-29f0f8a44454\">\n",
              "    <div class=\"colab-df-container\">\n",
              "      <div>\n",
              "<style scoped>\n",
              "    .dataframe tbody tr th:only-of-type {\n",
              "        vertical-align: middle;\n",
              "    }\n",
              "\n",
              "    .dataframe tbody tr th {\n",
              "        vertical-align: top;\n",
              "    }\n",
              "\n",
              "    .dataframe thead th {\n",
              "        text-align: right;\n",
              "    }\n",
              "</style>\n",
              "<table border=\"1\" class=\"dataframe\">\n",
              "  <thead>\n",
              "    <tr style=\"text-align: right;\">\n",
              "      <th></th>\n",
              "      <th>Time</th>\n",
              "      <th>V1</th>\n",
              "      <th>V2</th>\n",
              "      <th>V3</th>\n",
              "      <th>V4</th>\n",
              "      <th>V5</th>\n",
              "      <th>V6</th>\n",
              "      <th>V7</th>\n",
              "      <th>V8</th>\n",
              "      <th>V9</th>\n",
              "      <th>...</th>\n",
              "      <th>V21</th>\n",
              "      <th>V22</th>\n",
              "      <th>V23</th>\n",
              "      <th>V24</th>\n",
              "      <th>V25</th>\n",
              "      <th>V26</th>\n",
              "      <th>V27</th>\n",
              "      <th>V28</th>\n",
              "      <th>Amount</th>\n",
              "      <th>Class</th>\n",
              "    </tr>\n",
              "  </thead>\n",
              "  <tbody>\n",
              "    <tr>\n",
              "      <th>0</th>\n",
              "      <td>406.0</td>\n",
              "      <td>-2.312227</td>\n",
              "      <td>1.951992</td>\n",
              "      <td>-1.609851</td>\n",
              "      <td>3.997906</td>\n",
              "      <td>-0.522188</td>\n",
              "      <td>-1.426545</td>\n",
              "      <td>-2.537387</td>\n",
              "      <td>1.391657</td>\n",
              "      <td>-2.770089</td>\n",
              "      <td>...</td>\n",
              "      <td>0.517232</td>\n",
              "      <td>-0.035049</td>\n",
              "      <td>-0.465211</td>\n",
              "      <td>0.320198</td>\n",
              "      <td>0.044519</td>\n",
              "      <td>0.177840</td>\n",
              "      <td>0.261145</td>\n",
              "      <td>-0.143276</td>\n",
              "      <td>0.00</td>\n",
              "      <td>1</td>\n",
              "    </tr>\n",
              "    <tr>\n",
              "      <th>1</th>\n",
              "      <td>472.0</td>\n",
              "      <td>-3.043541</td>\n",
              "      <td>-3.157307</td>\n",
              "      <td>1.088463</td>\n",
              "      <td>2.288644</td>\n",
              "      <td>1.359805</td>\n",
              "      <td>-1.064823</td>\n",
              "      <td>0.325574</td>\n",
              "      <td>-0.067794</td>\n",
              "      <td>-0.270953</td>\n",
              "      <td>...</td>\n",
              "      <td>0.661696</td>\n",
              "      <td>0.435477</td>\n",
              "      <td>1.375966</td>\n",
              "      <td>-0.293803</td>\n",
              "      <td>0.279798</td>\n",
              "      <td>-0.145362</td>\n",
              "      <td>-0.252773</td>\n",
              "      <td>0.035764</td>\n",
              "      <td>529.00</td>\n",
              "      <td>1</td>\n",
              "    </tr>\n",
              "    <tr>\n",
              "      <th>2</th>\n",
              "      <td>4462.0</td>\n",
              "      <td>-2.303350</td>\n",
              "      <td>1.759247</td>\n",
              "      <td>-0.359745</td>\n",
              "      <td>2.330243</td>\n",
              "      <td>-0.821628</td>\n",
              "      <td>-0.075788</td>\n",
              "      <td>0.562320</td>\n",
              "      <td>-0.399147</td>\n",
              "      <td>-0.238253</td>\n",
              "      <td>...</td>\n",
              "      <td>-0.294166</td>\n",
              "      <td>-0.932391</td>\n",
              "      <td>0.172726</td>\n",
              "      <td>-0.087330</td>\n",
              "      <td>-0.156114</td>\n",
              "      <td>-0.542628</td>\n",
              "      <td>0.039566</td>\n",
              "      <td>-0.153029</td>\n",
              "      <td>239.93</td>\n",
              "      <td>1</td>\n",
              "    </tr>\n",
              "    <tr>\n",
              "      <th>3</th>\n",
              "      <td>6986.0</td>\n",
              "      <td>-4.397974</td>\n",
              "      <td>1.358367</td>\n",
              "      <td>-2.592844</td>\n",
              "      <td>2.679787</td>\n",
              "      <td>-1.128131</td>\n",
              "      <td>-1.706536</td>\n",
              "      <td>-3.496197</td>\n",
              "      <td>-0.248778</td>\n",
              "      <td>-0.247768</td>\n",
              "      <td>...</td>\n",
              "      <td>0.573574</td>\n",
              "      <td>0.176968</td>\n",
              "      <td>-0.436207</td>\n",
              "      <td>-0.053502</td>\n",
              "      <td>0.252405</td>\n",
              "      <td>-0.657488</td>\n",
              "      <td>-0.827136</td>\n",
              "      <td>0.849573</td>\n",
              "      <td>59.00</td>\n",
              "      <td>1</td>\n",
              "    </tr>\n",
              "    <tr>\n",
              "      <th>4</th>\n",
              "      <td>7519.0</td>\n",
              "      <td>1.234235</td>\n",
              "      <td>3.019740</td>\n",
              "      <td>-4.304597</td>\n",
              "      <td>4.732795</td>\n",
              "      <td>3.624201</td>\n",
              "      <td>-1.357746</td>\n",
              "      <td>1.713445</td>\n",
              "      <td>-0.496358</td>\n",
              "      <td>-1.282858</td>\n",
              "      <td>...</td>\n",
              "      <td>-0.379068</td>\n",
              "      <td>-0.704181</td>\n",
              "      <td>-0.656805</td>\n",
              "      <td>-1.632653</td>\n",
              "      <td>1.488901</td>\n",
              "      <td>0.566797</td>\n",
              "      <td>-0.010016</td>\n",
              "      <td>0.146793</td>\n",
              "      <td>1.00</td>\n",
              "      <td>1</td>\n",
              "    </tr>\n",
              "    <tr>\n",
              "      <th>...</th>\n",
              "      <td>...</td>\n",
              "      <td>...</td>\n",
              "      <td>...</td>\n",
              "      <td>...</td>\n",
              "      <td>...</td>\n",
              "      <td>...</td>\n",
              "      <td>...</td>\n",
              "      <td>...</td>\n",
              "      <td>...</td>\n",
              "      <td>...</td>\n",
              "      <td>...</td>\n",
              "      <td>...</td>\n",
              "      <td>...</td>\n",
              "      <td>...</td>\n",
              "      <td>...</td>\n",
              "      <td>...</td>\n",
              "      <td>...</td>\n",
              "      <td>...</td>\n",
              "      <td>...</td>\n",
              "      <td>...</td>\n",
              "      <td>...</td>\n",
              "    </tr>\n",
              "    <tr>\n",
              "      <th>979</th>\n",
              "      <td>152477.0</td>\n",
              "      <td>-1.209975</td>\n",
              "      <td>0.948509</td>\n",
              "      <td>1.045102</td>\n",
              "      <td>-0.906445</td>\n",
              "      <td>-0.203445</td>\n",
              "      <td>0.324609</td>\n",
              "      <td>-0.080531</td>\n",
              "      <td>0.523504</td>\n",
              "      <td>0.606093</td>\n",
              "      <td>...</td>\n",
              "      <td>0.232800</td>\n",
              "      <td>0.844527</td>\n",
              "      <td>-0.159858</td>\n",
              "      <td>0.737182</td>\n",
              "      <td>-0.359674</td>\n",
              "      <td>0.456524</td>\n",
              "      <td>-0.099251</td>\n",
              "      <td>0.003949</td>\n",
              "      <td>11.50</td>\n",
              "      <td>0</td>\n",
              "    </tr>\n",
              "    <tr>\n",
              "      <th>980</th>\n",
              "      <td>31804.0</td>\n",
              "      <td>0.876852</td>\n",
              "      <td>-1.378824</td>\n",
              "      <td>-0.089513</td>\n",
              "      <td>-0.140619</td>\n",
              "      <td>-1.471186</td>\n",
              "      <td>-1.203453</td>\n",
              "      <td>0.020258</td>\n",
              "      <td>-0.293517</td>\n",
              "      <td>-0.604150</td>\n",
              "      <td>...</td>\n",
              "      <td>-0.288289</td>\n",
              "      <td>-0.896918</td>\n",
              "      <td>-0.175407</td>\n",
              "      <td>0.727231</td>\n",
              "      <td>0.238578</td>\n",
              "      <td>1.049497</td>\n",
              "      <td>-0.128302</td>\n",
              "      <td>0.043203</td>\n",
              "      <td>267.96</td>\n",
              "      <td>0</td>\n",
              "    </tr>\n",
              "    <tr>\n",
              "      <th>981</th>\n",
              "      <td>41170.0</td>\n",
              "      <td>0.862181</td>\n",
              "      <td>-0.466435</td>\n",
              "      <td>0.931324</td>\n",
              "      <td>1.190244</td>\n",
              "      <td>-0.885385</td>\n",
              "      <td>0.126519</td>\n",
              "      <td>-0.453715</td>\n",
              "      <td>0.187509</td>\n",
              "      <td>0.282919</td>\n",
              "      <td>...</td>\n",
              "      <td>0.220515</td>\n",
              "      <td>0.271159</td>\n",
              "      <td>-0.188417</td>\n",
              "      <td>-0.006221</td>\n",
              "      <td>0.283163</td>\n",
              "      <td>-0.373078</td>\n",
              "      <td>0.026309</td>\n",
              "      <td>0.052731</td>\n",
              "      <td>158.82</td>\n",
              "      <td>0</td>\n",
              "    </tr>\n",
              "    <tr>\n",
              "      <th>982</th>\n",
              "      <td>52185.0</td>\n",
              "      <td>1.082424</td>\n",
              "      <td>-0.260440</td>\n",
              "      <td>0.669593</td>\n",
              "      <td>0.829139</td>\n",
              "      <td>-0.816022</td>\n",
              "      <td>-0.431719</td>\n",
              "      <td>-0.237702</td>\n",
              "      <td>0.096378</td>\n",
              "      <td>0.765726</td>\n",
              "      <td>...</td>\n",
              "      <td>-0.234746</td>\n",
              "      <td>-0.651101</td>\n",
              "      <td>0.122586</td>\n",
              "      <td>0.380234</td>\n",
              "      <td>0.148136</td>\n",
              "      <td>0.316350</td>\n",
              "      <td>-0.027063</td>\n",
              "      <td>0.017826</td>\n",
              "      <td>47.79</td>\n",
              "      <td>0</td>\n",
              "    </tr>\n",
              "    <tr>\n",
              "      <th>983</th>\n",
              "      <td>105627.0</td>\n",
              "      <td>2.078312</td>\n",
              "      <td>0.141117</td>\n",
              "      <td>-0.960327</td>\n",
              "      <td>0.573950</td>\n",
              "      <td>0.101559</td>\n",
              "      <td>-1.056660</td>\n",
              "      <td>0.162271</td>\n",
              "      <td>-0.468410</td>\n",
              "      <td>1.670060</td>\n",
              "      <td>...</td>\n",
              "      <td>-0.437363</td>\n",
              "      <td>-0.821883</td>\n",
              "      <td>0.321335</td>\n",
              "      <td>-0.141311</td>\n",
              "      <td>-0.264243</td>\n",
              "      <td>0.162893</td>\n",
              "      <td>-0.090293</td>\n",
              "      <td>-0.065640</td>\n",
              "      <td>0.89</td>\n",
              "      <td>0</td>\n",
              "    </tr>\n",
              "  </tbody>\n",
              "</table>\n",
              "<p>984 rows × 31 columns</p>\n",
              "</div>\n",
              "      <button class=\"colab-df-convert\" onclick=\"convertToInteractive('df-e258898e-0d85-49b8-8775-29f0f8a44454')\"\n",
              "              title=\"Convert this dataframe to an interactive table.\"\n",
              "              style=\"display:none;\">\n",
              "        \n",
              "  <svg xmlns=\"http://www.w3.org/2000/svg\" height=\"24px\"viewBox=\"0 0 24 24\"\n",
              "       width=\"24px\">\n",
              "    <path d=\"M0 0h24v24H0V0z\" fill=\"none\"/>\n",
              "    <path d=\"M18.56 5.44l.94 2.06.94-2.06 2.06-.94-2.06-.94-.94-2.06-.94 2.06-2.06.94zm-11 1L8.5 8.5l.94-2.06 2.06-.94-2.06-.94L8.5 2.5l-.94 2.06-2.06.94zm10 10l.94 2.06.94-2.06 2.06-.94-2.06-.94-.94-2.06-.94 2.06-2.06.94z\"/><path d=\"M17.41 7.96l-1.37-1.37c-.4-.4-.92-.59-1.43-.59-.52 0-1.04.2-1.43.59L10.3 9.45l-7.72 7.72c-.78.78-.78 2.05 0 2.83L4 21.41c.39.39.9.59 1.41.59.51 0 1.02-.2 1.41-.59l7.78-7.78 2.81-2.81c.8-.78.8-2.07 0-2.86zM5.41 20L4 18.59l7.72-7.72 1.47 1.35L5.41 20z\"/>\n",
              "  </svg>\n",
              "      </button>\n",
              "      \n",
              "  <style>\n",
              "    .colab-df-container {\n",
              "      display:flex;\n",
              "      flex-wrap:wrap;\n",
              "      gap: 12px;\n",
              "    }\n",
              "\n",
              "    .colab-df-convert {\n",
              "      background-color: #E8F0FE;\n",
              "      border: none;\n",
              "      border-radius: 50%;\n",
              "      cursor: pointer;\n",
              "      display: none;\n",
              "      fill: #1967D2;\n",
              "      height: 32px;\n",
              "      padding: 0 0 0 0;\n",
              "      width: 32px;\n",
              "    }\n",
              "\n",
              "    .colab-df-convert:hover {\n",
              "      background-color: #E2EBFA;\n",
              "      box-shadow: 0px 1px 2px rgba(60, 64, 67, 0.3), 0px 1px 3px 1px rgba(60, 64, 67, 0.15);\n",
              "      fill: #174EA6;\n",
              "    }\n",
              "\n",
              "    [theme=dark] .colab-df-convert {\n",
              "      background-color: #3B4455;\n",
              "      fill: #D2E3FC;\n",
              "    }\n",
              "\n",
              "    [theme=dark] .colab-df-convert:hover {\n",
              "      background-color: #434B5C;\n",
              "      box-shadow: 0px 1px 3px 1px rgba(0, 0, 0, 0.15);\n",
              "      filter: drop-shadow(0px 1px 2px rgba(0, 0, 0, 0.3));\n",
              "      fill: #FFFFFF;\n",
              "    }\n",
              "  </style>\n",
              "\n",
              "      <script>\n",
              "        const buttonEl =\n",
              "          document.querySelector('#df-e258898e-0d85-49b8-8775-29f0f8a44454 button.colab-df-convert');\n",
              "        buttonEl.style.display =\n",
              "          google.colab.kernel.accessAllowed ? 'block' : 'none';\n",
              "\n",
              "        async function convertToInteractive(key) {\n",
              "          const element = document.querySelector('#df-e258898e-0d85-49b8-8775-29f0f8a44454');\n",
              "          const dataTable =\n",
              "            await google.colab.kernel.invokeFunction('convertToInteractive',\n",
              "                                                     [key], {});\n",
              "          if (!dataTable) return;\n",
              "\n",
              "          const docLinkHtml = 'Like what you see? Visit the ' +\n",
              "            '<a target=\"_blank\" href=https://colab.research.google.com/notebooks/data_table.ipynb>data table notebook</a>'\n",
              "            + ' to learn more about interactive tables.';\n",
              "          element.innerHTML = '';\n",
              "          dataTable['output_type'] = 'display_data';\n",
              "          await google.colab.output.renderOutput(dataTable, element);\n",
              "          const docLink = document.createElement('div');\n",
              "          docLink.innerHTML = docLinkHtml;\n",
              "          element.appendChild(docLink);\n",
              "        }\n",
              "      </script>\n",
              "    </div>\n",
              "  </div>\n",
              "  "
            ]
          },
          "metadata": {},
          "execution_count": 139
        }
      ]
    },
    {
      "cell_type": "code",
      "source": [
        "# Now we can say that the data is balanced now and concated\n",
        "dataset.Class.value_counts()"
      ],
      "metadata": {
        "id": "_FqiVYRm28VC",
        "colab": {
          "base_uri": "https://localhost:8080/"
        },
        "outputId": "ca53e1a8-6026-42cb-a0d3-cb190074da88"
      },
      "id": "_FqiVYRm28VC",
      "execution_count": 140,
      "outputs": [
        {
          "output_type": "execute_result",
          "data": {
            "text/plain": [
              "1    492\n",
              "0    492\n",
              "Name: Class, dtype: int64"
            ]
          },
          "metadata": {},
          "execution_count": 140
        }
      ]
    },
    {
      "cell_type": "code",
      "source": [
        "#visual representation of instances per class\n",
        "dataset.Class.value_counts().plot.bar()"
      ],
      "metadata": {
        "id": "x9e8sN-Sl_ld",
        "outputId": "a711d580-89f0-4b24-ec27-1b6192b798c1",
        "colab": {
          "base_uri": "https://localhost:8080/",
          "height": 279
        }
      },
      "id": "x9e8sN-Sl_ld",
      "execution_count": 141,
      "outputs": [
        {
          "output_type": "execute_result",
          "data": {
            "text/plain": [
              "<matplotlib.axes._subplots.AxesSubplot at 0x7f6a6e2781d0>"
            ]
          },
          "metadata": {},
          "execution_count": 141
        },
        {
          "output_type": "display_data",
          "data": {
            "text/plain": [
              "<Figure size 432x288 with 1 Axes>"
            ],
            "image/png": "[encoded data removed]"
          },
          "metadata": {
            "needs_background": "light"
          }
        }
      ]
    },
    {
      "cell_type": "code",
      "source": [
        "#Histrogram for feature Time\n",
        "f, (ax1, ax2) = plt.subplots(2, 1, sharex=True, figsize=(16,6))\n",
        "\n",
        "ax1.hist(data[\"Time\"][data[\"Class\"] == 1], bins = 50)\n",
        "ax1.set_title('Fraudulent')\n",
        "\n",
        "ax2.hist(data[\"Time\"][data[\"Class\"] == 0], bins = 50)\n",
        "ax2.set_title('Genuine')\n",
        "\n",
        "plt.xlabel('Seconds after transaction number zero')\n",
        "plt.ylabel('Number of Transactions')\n",
        "plt.show()"
      ],
      "metadata": {
        "id": "5v3uk4NHl6fo",
        "outputId": "73947bf0-0764-495b-e6e8-5d7716ace37a",
        "colab": {
          "base_uri": "https://localhost:8080/",
          "height": 404
        }
      },
      "id": "5v3uk4NHl6fo",
      "execution_count": 142,
      "outputs": [
        {
          "output_type": "display_data",
          "data": {
            "text/plain": [
              "<Figure size 1152x432 with 2 Axes>"
            ],
            "image/png": "[encoded data removed]"
          },
          "metadata": {
            "needs_background": "light"
          }
        }
      ]
    },
    {
      "cell_type": "markdown",
      "source": [
        "The transactions occur in a cyclic way. But the time feature does not provide any useful information as the time when the first transaction was initiated is not given. Thus, we'll drop this feature"
      ],
      "metadata": {
        "id": "5si-HzmBpHkc"
      },
      "id": "5si-HzmBpHkc"
    },
    {
      "cell_type": "code",
      "source": [
        "# now dividing the dataframe into dependent and independent varaible\n",
        "X=dataset.drop(['Class'], axis=1)\n",
        "X=dataset.drop(['Time'],axis=1)\n",
        "Y=dataset['Class']"
      ],
      "metadata": {
        "id": "oqHlqG7S3OHh"
      },
      "id": "oqHlqG7S3OHh",
      "execution_count": 143,
      "outputs": []
    },
    {
      "cell_type": "code",
      "source": [
        "# we will divide the dataset into training and testing dataset\n",
        "X_train,X_test,Y_train,Y_test=train_test_split(X,Y,test_size=0.2,random_state=42)\n",
        "\n",
        "# check the shape\n",
        "X_train.shape,X_test.shape,Y_train.shape,Y_test.shape"
      ],
      "metadata": {
        "id": "Ui0uygiI3Qfu",
        "colab": {
          "base_uri": "https://localhost:8080/"
        },
        "outputId": "935e8548-ee68-47b9-8ac6-b760a5372511"
      },
      "id": "Ui0uygiI3Qfu",
      "execution_count": 144,
      "outputs": [
        {
          "output_type": "execute_result",
          "data": {
            "text/plain": [
              "((787, 30), (197, 30), (787,), (197,))"
            ]
          },
          "metadata": {},
          "execution_count": 144
        }
      ]
    },
    {
      "cell_type": "code",
      "source": [
        "X_train"
      ],
      "metadata": {
        "id": "J4bClYzF3muO",
        "colab": {
          "base_uri": "https://localhost:8080/",
          "height": 488
        },
        "outputId": "d0b63a9d-8223-490c-ec85-12c71a0d1a7e"
      },
      "id": "J4bClYzF3muO",
      "execution_count": 145,
      "outputs": [
        {
          "output_type": "execute_result",
          "data": {
            "text/plain": [
              "           V1        V2        V3        V4         V5        V6        V7  \\\n",
              "962  2.309935 -0.536278 -2.809043 -1.178904   0.633231 -1.053058  0.374677   \n",
              "762  1.790990 -0.459823 -1.177821  0.036425   0.773860  1.677702 -0.506813   \n",
              "334 -1.465316 -1.093377 -0.059768  1.064785  11.095089 -5.430971 -9.378025   \n",
              "889 -0.427041  1.076812  1.573799 -0.034128  -0.004107 -0.879733  0.760273   \n",
              "529  0.040919  0.944242  1.448093  2.962388  -0.363479  0.068846  0.605849   \n",
              "..        ...       ...       ...       ...        ...       ...       ...   \n",
              "106 -4.446847 -0.014793 -5.126307  6.945130   5.269255 -4.297177 -2.591242   \n",
              "270 -1.430864 -0.802529  1.123320  0.389760  -0.281214 -0.055123  1.326232   \n",
              "860 -1.724489 -0.681480  0.746969 -2.333711  -1.199226  0.280815  0.805278   \n",
              "435 -2.150855  2.187917 -3.430516  0.119476  -0.173210  0.290700 -2.808988   \n",
              "102 -7.923891 -5.198360 -3.000024  4.420666   2.272194 -3.394483 -5.283435   \n",
              "\n",
              "           V8        V9       V10  ...       V21       V22        V23  \\\n",
              "962 -0.498741 -1.202792  1.118135  ...  0.464127  1.371227  -0.371313   \n",
              "762  0.585402  0.703554 -0.117726  ...  0.177148  0.745613   0.308954   \n",
              "334 -0.446456  1.992110  1.785922  ...  1.160623 -1.259697 -15.981649   \n",
              "889 -0.108140 -0.506741 -0.335938  ... -0.216514 -0.536411  -0.019696   \n",
              "529 -0.058124 -1.212469  0.758473  ...  0.279432  0.761088   0.355381   \n",
              "..        ...       ...       ...  ...       ...       ...        ...   \n",
              "106  0.342671 -3.880663 -3.976525  ...  0.247913 -0.049586  -0.226017   \n",
              "270  0.195700 -0.546890 -0.713474  ...  0.325575  0.014002   0.844946   \n",
              "860  0.013923 -0.488163  0.569341  ...  0.282193  1.196867  -0.197326   \n",
              "435 -2.679351 -0.556685 -4.485483  ... -0.073205  0.561496  -0.075034   \n",
              "102  0.131619  0.658176 -0.794994  ... -0.734308 -0.599926  -4.908301   \n",
              "\n",
              "          V24       V25       V26       V27       V28  Amount  Class  \n",
              "962 -0.940544  0.858142  0.343922 -0.103914 -0.112682   20.00      0  \n",
              "762 -0.591195 -0.340291 -0.267218  0.060417 -0.065201   15.00      0  \n",
              "334 -0.883670 -3.536716 -0.592965  0.675525  0.424849    0.92      1  \n",
              "889  0.380298 -0.166511  0.068925  0.268282  0.123056    6.77      0  \n",
              "529  0.402924 -1.374980 -0.007838  0.269471  0.275085   94.14      0  \n",
              "..        ...       ...       ...       ...       ...     ...    ...  \n",
              "106 -0.401236  0.856124  0.661272  0.492560  0.971834    1.00      1  \n",
              "270  0.114963  0.156365 -0.619437 -0.120351  0.035594  354.33      1  \n",
              "860 -0.424100  0.281430 -0.091885  0.651407  0.474663  320.00      0  \n",
              "435 -0.437619  0.353841 -0.521339  0.144465  0.026588   50.00      1  \n",
              "102  0.410170 -1.167660  0.520508  1.937421 -1.552593   12.31      1  \n",
              "\n",
              "[787 rows x 30 columns]"
            ],
            "text/html": [
              "\n",
              "  <div id=\"df-f327dad9-2766-43eb-ab13-29c610f725fb\">\n",
              "    <div class=\"colab-df-container\">\n",
              "      <div>\n",
              "<style scoped>\n",
              "    .dataframe tbody tr th:only-of-type {\n",
              "        vertical-align: middle;\n",
              "    }\n",
              "\n",
              "    .dataframe tbody tr th {\n",
              "        vertical-align: top;\n",
              "    }\n",
              "\n",
              "    .dataframe thead th {\n",
              "        text-align: right;\n",
              "    }\n",
              "</style>\n",
              "<table border=\"1\" class=\"dataframe\">\n",
              "  <thead>\n",
              "    <tr style=\"text-align: right;\">\n",
              "      <th></th>\n",
              "      <th>V1</th>\n",
              "      <th>V2</th>\n",
              "      <th>V3</th>\n",
              "      <th>V4</th>\n",
              "      <th>V5</th>\n",
              "      <th>V6</th>\n",
              "      <th>V7</th>\n",
              "      <th>V8</th>\n",
              "      <th>V9</th>\n",
              "      <th>V10</th>\n",
              "      <th>...</th>\n",
              "      <th>V21</th>\n",
              "      <th>V22</th>\n",
              "      <th>V23</th>\n",
              "      <th>V24</th>\n",
              "      <th>V25</th>\n",
              "      <th>V26</th>\n",
              "      <th>V27</th>\n",
              "      <th>V28</th>\n",
              "      <th>Amount</th>\n",
              "      <th>Class</th>\n",
              "    </tr>\n",
              "  </thead>\n",
              "  <tbody>\n",
              "    <tr>\n",
              "      <th>962</th>\n",
              "      <td>2.309935</td>\n",
              "      <td>-0.536278</td>\n",
              "      <td>-2.809043</td>\n",
              "      <td>-1.178904</td>\n",
              "      <td>0.633231</td>\n",
              "      <td>-1.053058</td>\n",
              "      <td>0.374677</td>\n",
              "      <td>-0.498741</td>\n",
              "      <td>-1.202792</td>\n",
              "      <td>1.118135</td>\n",
              "      <td>...</td>\n",
              "      <td>0.464127</td>\n",
              "      <td>1.371227</td>\n",
              "      <td>-0.371313</td>\n",
              "      <td>-0.940544</td>\n",
              "      <td>0.858142</td>\n",
              "      <td>0.343922</td>\n",
              "      <td>-0.103914</td>\n",
              "      <td>-0.112682</td>\n",
              "      <td>20.00</td>\n",
              "      <td>0</td>\n",
              "    </tr>\n",
              "    <tr>\n",
              "      <th>762</th>\n",
              "      <td>1.790990</td>\n",
              "      <td>-0.459823</td>\n",
              "      <td>-1.177821</td>\n",
              "      <td>0.036425</td>\n",
              "      <td>0.773860</td>\n",
              "      <td>1.677702</td>\n",
              "      <td>-0.506813</td>\n",
              "      <td>0.585402</td>\n",
              "      <td>0.703554</td>\n",
              "      <td>-0.117726</td>\n",
              "      <td>...</td>\n",
              "      <td>0.177148</td>\n",
              "      <td>0.745613</td>\n",
              "      <td>0.308954</td>\n",
              "      <td>-0.591195</td>\n",
              "      <td>-0.340291</td>\n",
              "      <td>-0.267218</td>\n",
              "      <td>0.060417</td>\n",
              "      <td>-0.065201</td>\n",
              "      <td>15.00</td>\n",
              "      <td>0</td>\n",
              "    </tr>\n",
              "    <tr>\n",
              "      <th>334</th>\n",
              "      <td>-1.465316</td>\n",
              "      <td>-1.093377</td>\n",
              "      <td>-0.059768</td>\n",
              "      <td>1.064785</td>\n",
              "      <td>11.095089</td>\n",
              "      <td>-5.430971</td>\n",
              "      <td>-9.378025</td>\n",
              "      <td>-0.446456</td>\n",
              "      <td>1.992110</td>\n",
              "      <td>1.785922</td>\n",
              "      <td>...</td>\n",
              "      <td>1.160623</td>\n",
              "      <td>-1.259697</td>\n",
              "      <td>-15.981649</td>\n",
              "      <td>-0.883670</td>\n",
              "      <td>-3.536716</td>\n",
              "      <td>-0.592965</td>\n",
              "      <td>0.675525</td>\n",
              "      <td>0.424849</td>\n",
              "      <td>0.92</td>\n",
              "      <td>1</td>\n",
              "    </tr>\n",
              "    <tr>\n",
              "      <th>889</th>\n",
              "      <td>-0.427041</td>\n",
              "      <td>1.076812</td>\n",
              "      <td>1.573799</td>\n",
              "      <td>-0.034128</td>\n",
              "      <td>-0.004107</td>\n",
              "      <td>-0.879733</td>\n",
              "      <td>0.760273</td>\n",
              "      <td>-0.108140</td>\n",
              "      <td>-0.506741</td>\n",
              "      <td>-0.335938</td>\n",
              "      <td>...</td>\n",
              "      <td>-0.216514</td>\n",
              "      <td>-0.536411</td>\n",
              "      <td>-0.019696</td>\n",
              "      <td>0.380298</td>\n",
              "      <td>-0.166511</td>\n",
              "      <td>0.068925</td>\n",
              "      <td>0.268282</td>\n",
              "      <td>0.123056</td>\n",
              "      <td>6.77</td>\n",
              "      <td>0</td>\n",
              "    </tr>\n",
              "    <tr>\n",
              "      <th>529</th>\n",
              "      <td>0.040919</td>\n",
              "      <td>0.944242</td>\n",
              "      <td>1.448093</td>\n",
              "      <td>2.962388</td>\n",
              "      <td>-0.363479</td>\n",
              "      <td>0.068846</td>\n",
              "      <td>0.605849</td>\n",
              "      <td>-0.058124</td>\n",
              "      <td>-1.212469</td>\n",
              "      <td>0.758473</td>\n",
              "      <td>...</td>\n",
              "      <td>0.279432</td>\n",
              "      <td>0.761088</td>\n",
              "      <td>0.355381</td>\n",
              "      <td>0.402924</td>\n",
              "      <td>-1.374980</td>\n",
              "      <td>-0.007838</td>\n",
              "      <td>0.269471</td>\n",
              "      <td>0.275085</td>\n",
              "      <td>94.14</td>\n",
              "      <td>0</td>\n",
              "    </tr>\n",
              "    <tr>\n",
              "      <th>...</th>\n",
              "      <td>...</td>\n",
              "      <td>...</td>\n",
              "      <td>...</td>\n",
              "      <td>...</td>\n",
              "      <td>...</td>\n",
              "      <td>...</td>\n",
              "      <td>...</td>\n",
              "      <td>...</td>\n",
              "      <td>...</td>\n",
              "      <td>...</td>\n",
              "      <td>...</td>\n",
              "      <td>...</td>\n",
              "      <td>...</td>\n",
              "      <td>...</td>\n",
              "      <td>...</td>\n",
              "      <td>...</td>\n",
              "      <td>...</td>\n",
              "      <td>...</td>\n",
              "      <td>...</td>\n",
              "      <td>...</td>\n",
              "      <td>...</td>\n",
              "    </tr>\n",
              "    <tr>\n",
              "      <th>106</th>\n",
              "      <td>-4.446847</td>\n",
              "      <td>-0.014793</td>\n",
              "      <td>-5.126307</td>\n",
              "      <td>6.945130</td>\n",
              "      <td>5.269255</td>\n",
              "      <td>-4.297177</td>\n",
              "      <td>-2.591242</td>\n",
              "      <td>0.342671</td>\n",
              "      <td>-3.880663</td>\n",
              "      <td>-3.976525</td>\n",
              "      <td>...</td>\n",
              "      <td>0.247913</td>\n",
              "      <td>-0.049586</td>\n",
              "      <td>-0.226017</td>\n",
              "      <td>-0.401236</td>\n",
              "      <td>0.856124</td>\n",
              "      <td>0.661272</td>\n",
              "      <td>0.492560</td>\n",
              "      <td>0.971834</td>\n",
              "      <td>1.00</td>\n",
              "      <td>1</td>\n",
              "    </tr>\n",
              "    <tr>\n",
              "      <th>270</th>\n",
              "      <td>-1.430864</td>\n",
              "      <td>-0.802529</td>\n",
              "      <td>1.123320</td>\n",
              "      <td>0.389760</td>\n",
              "      <td>-0.281214</td>\n",
              "      <td>-0.055123</td>\n",
              "      <td>1.326232</td>\n",
              "      <td>0.195700</td>\n",
              "      <td>-0.546890</td>\n",
              "      <td>-0.713474</td>\n",
              "      <td>...</td>\n",
              "      <td>0.325575</td>\n",
              "      <td>0.014002</td>\n",
              "      <td>0.844946</td>\n",
              "      <td>0.114963</td>\n",
              "      <td>0.156365</td>\n",
              "      <td>-0.619437</td>\n",
              "      <td>-0.120351</td>\n",
              "      <td>0.035594</td>\n",
              "      <td>354.33</td>\n",
              "      <td>1</td>\n",
              "    </tr>\n",
              "    <tr>\n",
              "      <th>860</th>\n",
              "      <td>-1.724489</td>\n",
              "      <td>-0.681480</td>\n",
              "      <td>0.746969</td>\n",
              "      <td>-2.333711</td>\n",
              "      <td>-1.199226</td>\n",
              "      <td>0.280815</td>\n",
              "      <td>0.805278</td>\n",
              "      <td>0.013923</td>\n",
              "      <td>-0.488163</td>\n",
              "      <td>0.569341</td>\n",
              "      <td>...</td>\n",
              "      <td>0.282193</td>\n",
              "      <td>1.196867</td>\n",
              "      <td>-0.197326</td>\n",
              "      <td>-0.424100</td>\n",
              "      <td>0.281430</td>\n",
              "      <td>-0.091885</td>\n",
              "      <td>0.651407</td>\n",
              "      <td>0.474663</td>\n",
              "      <td>320.00</td>\n",
              "      <td>0</td>\n",
              "    </tr>\n",
              "    <tr>\n",
              "      <th>435</th>\n",
              "      <td>-2.150855</td>\n",
              "      <td>2.187917</td>\n",
              "      <td>-3.430516</td>\n",
              "      <td>0.119476</td>\n",
              "      <td>-0.173210</td>\n",
              "      <td>0.290700</td>\n",
              "      <td>-2.808988</td>\n",
              "      <td>-2.679351</td>\n",
              "      <td>-0.556685</td>\n",
              "      <td>-4.485483</td>\n",
              "      <td>...</td>\n",
              "      <td>-0.073205</td>\n",
              "      <td>0.561496</td>\n",
              "      <td>-0.075034</td>\n",
              "      <td>-0.437619</td>\n",
              "      <td>0.353841</td>\n",
              "      <td>-0.521339</td>\n",
              "      <td>0.144465</td>\n",
              "      <td>0.026588</td>\n",
              "      <td>50.00</td>\n",
              "      <td>1</td>\n",
              "    </tr>\n",
              "    <tr>\n",
              "      <th>102</th>\n",
              "      <td>-7.923891</td>\n",
              "      <td>-5.198360</td>\n",
              "      <td>-3.000024</td>\n",
              "      <td>4.420666</td>\n",
              "      <td>2.272194</td>\n",
              "      <td>-3.394483</td>\n",
              "      <td>-5.283435</td>\n",
              "      <td>0.131619</td>\n",
              "      <td>0.658176</td>\n",
              "      <td>-0.794994</td>\n",
              "      <td>...</td>\n",
              "      <td>-0.734308</td>\n",
              "      <td>-0.599926</td>\n",
              "      <td>-4.908301</td>\n",
              "      <td>0.410170</td>\n",
              "      <td>-1.167660</td>\n",
              "      <td>0.520508</td>\n",
              "      <td>1.937421</td>\n",
              "      <td>-1.552593</td>\n",
              "      <td>12.31</td>\n",
              "      <td>1</td>\n",
              "    </tr>\n",
              "  </tbody>\n",
              "</table>\n",
              "<p>787 rows × 30 columns</p>\n",
              "</div>\n",
              "      <button class=\"colab-df-convert\" onclick=\"convertToInteractive('df-f327dad9-2766-43eb-ab13-29c610f725fb')\"\n",
              "              title=\"Convert this dataframe to an interactive table.\"\n",
              "              style=\"display:none;\">\n",
              "        \n",
              "  <svg xmlns=\"http://www.w3.org/2000/svg\" height=\"24px\"viewBox=\"0 0 24 24\"\n",
              "       width=\"24px\">\n",
              "    <path d=\"M0 0h24v24H0V0z\" fill=\"none\"/>\n",
              "    <path d=\"M18.56 5.44l.94 2.06.94-2.06 2.06-.94-2.06-.94-.94-2.06-.94 2.06-2.06.94zm-11 1L8.5 8.5l.94-2.06 2.06-.94-2.06-.94L8.5 2.5l-.94 2.06-2.06.94zm10 10l.94 2.06.94-2.06 2.06-.94-2.06-.94-.94-2.06-.94 2.06-2.06.94z\"/><path d=\"M17.41 7.96l-1.37-1.37c-.4-.4-.92-.59-1.43-.59-.52 0-1.04.2-1.43.59L10.3 9.45l-7.72 7.72c-.78.78-.78 2.05 0 2.83L4 21.41c.39.39.9.59 1.41.59.51 0 1.02-.2 1.41-.59l7.78-7.78 2.81-2.81c.8-.78.8-2.07 0-2.86zM5.41 20L4 18.59l7.72-7.72 1.47 1.35L5.41 20z\"/>\n",
              "  </svg>\n",
              "      </button>\n",
              "      \n",
              "  <style>\n",
              "    .colab-df-container {\n",
              "      display:flex;\n",
              "      flex-wrap:wrap;\n",
              "      gap: 12px;\n",
              "    }\n",
              "\n",
              "    .colab-df-convert {\n",
              "      background-color: #E8F0FE;\n",
              "      border: none;\n",
              "      border-radius: 50%;\n",
              "      cursor: pointer;\n",
              "      display: none;\n",
              "      fill: #1967D2;\n",
              "      height: 32px;\n",
              "      padding: 0 0 0 0;\n",
              "      width: 32px;\n",
              "    }\n",
              "\n",
              "    .colab-df-convert:hover {\n",
              "      background-color: #E2EBFA;\n",
              "      box-shadow: 0px 1px 2px rgba(60, 64, 67, 0.3), 0px 1px 3px 1px rgba(60, 64, 67, 0.15);\n",
              "      fill: #174EA6;\n",
              "    }\n",
              "\n",
              "    [theme=dark] .colab-df-convert {\n",
              "      background-color: #3B4455;\n",
              "      fill: #D2E3FC;\n",
              "    }\n",
              "\n",
              "    [theme=dark] .colab-df-convert:hover {\n",
              "      background-color: #434B5C;\n",
              "      box-shadow: 0px 1px 3px 1px rgba(0, 0, 0, 0.15);\n",
              "      filter: drop-shadow(0px 1px 2px rgba(0, 0, 0, 0.3));\n",
              "      fill: #FFFFFF;\n",
              "    }\n",
              "  </style>\n",
              "\n",
              "      <script>\n",
              "        const buttonEl =\n",
              "          document.querySelector('#df-f327dad9-2766-43eb-ab13-29c610f725fb button.colab-df-convert');\n",
              "        buttonEl.style.display =\n",
              "          google.colab.kernel.accessAllowed ? 'block' : 'none';\n",
              "\n",
              "        async function convertToInteractive(key) {\n",
              "          const element = document.querySelector('#df-f327dad9-2766-43eb-ab13-29c610f725fb');\n",
              "          const dataTable =\n",
              "            await google.colab.kernel.invokeFunction('convertToInteractive',\n",
              "                                                     [key], {});\n",
              "          if (!dataTable) return;\n",
              "\n",
              "          const docLinkHtml = 'Like what you see? Visit the ' +\n",
              "            '<a target=\"_blank\" href=https://colab.research.google.com/notebooks/data_table.ipynb>data table notebook</a>'\n",
              "            + ' to learn more about interactive tables.';\n",
              "          element.innerHTML = '';\n",
              "          dataTable['output_type'] = 'display_data';\n",
              "          await google.colab.output.renderOutput(dataTable, element);\n",
              "          const docLink = document.createElement('div');\n",
              "          docLink.innerHTML = docLinkHtml;\n",
              "          element.appendChild(docLink);\n",
              "        }\n",
              "      </script>\n",
              "    </div>\n",
              "  </div>\n",
              "  "
            ]
          },
          "metadata": {},
          "execution_count": 145
        }
      ]
    },
    {
      "cell_type": "markdown",
      "source": [
        "We can see that our data is highly varied, we need to scale our data.\n",
        "\n",
        "We will scale our data using Standard Scaler"
      ],
      "metadata": {
        "id": "qFlNT39p3z_5"
      },
      "id": "qFlNT39p3z_5"
    },
    {
      "cell_type": "code",
      "source": [
        "# scaling our dataset\n",
        "scaler=StandardScaler()\n",
        "X_train=scaler.fit_transform(X_train)\n",
        "X_test=scaler.fit_transform(X_test)"
      ],
      "metadata": {
        "id": "5p0qoApa31AB"
      },
      "id": "5p0qoApa31AB",
      "execution_count": 146,
      "outputs": []
    },
    {
      "cell_type": "code",
      "source": [
        "# converting into numpy array\n",
        "Y_train=Y_train.to_numpy()\n",
        "Y_test=Y_test.to_numpy()"
      ],
      "metadata": {
        "id": "HUl-vu984CXh"
      },
      "id": "HUl-vu984CXh",
      "execution_count": 147,
      "outputs": []
    },
    {
      "cell_type": "markdown",
      "source": [
        "Here we will have to change the shape so that our model can process the data"
      ],
      "metadata": {
        "id": "kixrtAJ54q6q"
      },
      "id": "kixrtAJ54q6q"
    },
    {
      "cell_type": "code",
      "source": [
        "# useful transformation\n",
        "X_train=X_train.reshape(X_train.shape[0],X_train.shape[1],1)\n",
        "X_test=X_test.reshape(X_test.shape[0],X_test.shape[1],1)\n",
        "\n",
        "# check the shape again\n",
        "X_train.shape, X_test.shape"
      ],
      "metadata": {
        "id": "u9YYDyZZ4Rc6",
        "colab": {
          "base_uri": "https://localhost:8080/"
        },
        "outputId": "84d2e391-3caa-4e4e-b4e9-63e9e7cac40f"
      },
      "id": "u9YYDyZZ4Rc6",
      "execution_count": 148,
      "outputs": [
        {
          "output_type": "execute_result",
          "data": {
            "text/plain": [
              "((787, 30, 1), (197, 30, 1))"
            ]
          },
          "metadata": {},
          "execution_count": 148
        }
      ]
    },
    {
      "cell_type": "markdown",
      "source": [
        "#Now we will build our Model"
      ],
      "metadata": {
        "id": "NbOtbSxG5fWm"
      },
      "id": "NbOtbSxG5fWm"
    },
    {
      "cell_type": "code",
      "source": [
        "# import the libraries\n",
        "from keras.models import Sequential\n",
        "from keras.layers import Dense,Flatten,Conv1D,BatchNormalization,Dropout"
      ],
      "metadata": {
        "id": "DxgV241j5lyy"
      },
      "id": "DxgV241j5lyy",
      "execution_count": 149,
      "outputs": []
    },
    {
      "cell_type": "code",
      "source": [
        "# import model\n",
        "model=Sequential()\n",
        "# layers\n",
        "model.add(Conv1D(filters=32, kernel_size=2, activation='relu', input_shape=X_train[0].shape))\n",
        "model.add(BatchNormalization())\n",
        "model.add(Dropout(0.2))\n",
        "\n",
        "model.add(Conv1D(filters=64, kernel_size=2, activation='relu'))\n",
        "model.add(BatchNormalization())\n",
        "model.add(Dropout(0.2))\n",
        "\n",
        "# build ANN\n",
        "model.add(Flatten())\n",
        "model.add(Dense(64, activation='relu'))\n",
        "model.add(Dropout(0.5))\n",
        "model.add(Dense(1, activation='relu'))"
      ],
      "metadata": {
        "id": "2Qf4zXTC56Sm"
      },
      "id": "2Qf4zXTC56Sm",
      "execution_count": 150,
      "outputs": []
    },
    {
      "cell_type": "code",
      "source": [
        "# summary\n",
        "model.summary()"
      ],
      "metadata": {
        "id": "tgqBH5RR6S2j",
        "colab": {
          "base_uri": "https://localhost:8080/"
        },
        "outputId": "a8a48591-d03e-4cf0-9b80-d374c3c28dc2"
      },
      "id": "tgqBH5RR6S2j",
      "execution_count": 151,
      "outputs": [
        {
          "output_type": "stream",
          "name": "stdout",
          "text": [
            "Model: \"sequential_4\"\n",
            "_________________________________________________________________\n",
            " Layer (type)                Output Shape              Param #   \n",
            "=================================================================\n",
            " conv1d_8 (Conv1D)           (None, 29, 32)            96        \n",
            "                                                                 \n",
            " batch_normalization_8 (Batc  (None, 29, 32)           128       \n",
            " hNormalization)                                                 \n",
            "                                                                 \n",
            " dropout_12 (Dropout)        (None, 29, 32)            0         \n",
            "                                                                 \n",
            " conv1d_9 (Conv1D)           (None, 28, 64)            4160      \n",
            "                                                                 \n",
            " batch_normalization_9 (Batc  (None, 28, 64)           256       \n",
            " hNormalization)                                                 \n",
            "                                                                 \n",
            " dropout_13 (Dropout)        (None, 28, 64)            0         \n",
            "                                                                 \n",
            " flatten_4 (Flatten)         (None, 1792)              0         \n",
            "                                                                 \n",
            " dense_8 (Dense)             (None, 64)                114752    \n",
            "                                                                 \n",
            " dropout_14 (Dropout)        (None, 64)                0         \n",
            "                                                                 \n",
            " dense_9 (Dense)             (None, 1)                 65        \n",
            "                                                                 \n",
            "=================================================================\n",
            "Total params: 119,457\n",
            "Trainable params: 119,265\n",
            "Non-trainable params: 192\n",
            "_________________________________________________________________\n"
          ]
        }
      ]
    },
    {
      "cell_type": "code",
      "source": [
        "# compile the model\n",
        "model.compile(optimizer='adam', loss='binary_crossentropy', metrics=['accuracy'])"
      ],
      "metadata": {
        "id": "iAoepc896Xk4"
      },
      "id": "iAoepc896Xk4",
      "execution_count": 152,
      "outputs": []
    },
    {
      "cell_type": "code",
      "source": [
        "%%time\n",
        "# fitting the model\n",
        "model_his=model.fit(X_train,Y_train,epochs=25,validation_data=(X_test,Y_test))"
      ],
      "metadata": {
        "id": "3v2tIm646esR",
        "colab": {
          "base_uri": "https://localhost:8080/"
        },
        "outputId": "aef49a31-5426-4752-ef9f-84110673618b"
      },
      "id": "3v2tIm646esR",
      "execution_count": 153,
      "outputs": [
        {
          "output_type": "stream",
          "name": "stdout",
          "text": [
            "Epoch 1/25\n",
            "25/25 [==============================] - 2s 20ms/step - loss: 2.7956 - accuracy: 0.7992 - val_loss: 0.6950 - val_accuracy: 0.8731\n",
            "Epoch 2/25\n",
            "25/25 [==============================] - 0s 11ms/step - loss: 1.5462 - accuracy: 0.8933 - val_loss: 0.6755 - val_accuracy: 0.7259\n",
            "Epoch 3/25\n",
            "25/25 [==============================] - 0s 11ms/step - loss: 1.3340 - accuracy: 0.9060 - val_loss: 7.4410 - val_accuracy: 0.5076\n",
            "Epoch 4/25\n",
            "25/25 [==============================] - 0s 11ms/step - loss: 1.1595 - accuracy: 0.9187 - val_loss: 0.9232 - val_accuracy: 0.9188\n",
            "Epoch 5/25\n",
            "25/25 [==============================] - 0s 10ms/step - loss: 1.1655 - accuracy: 0.9187 - val_loss: 0.2520 - val_accuracy: 0.9746\n",
            "Epoch 6/25\n",
            "25/25 [==============================] - 0s 10ms/step - loss: 0.8943 - accuracy: 0.9377 - val_loss: 7.3167 - val_accuracy: 0.5076\n",
            "Epoch 7/25\n",
            "25/25 [==============================] - 0s 11ms/step - loss: 0.7349 - accuracy: 0.9466 - val_loss: 7.5105 - val_accuracy: 0.5076\n",
            "Epoch 8/25\n",
            "25/25 [==============================] - 0s 11ms/step - loss: 0.7502 - accuracy: 0.9492 - val_loss: 1.0214 - val_accuracy: 0.8782\n",
            "Epoch 9/25\n",
            "25/25 [==============================] - 0s 11ms/step - loss: 0.8295 - accuracy: 0.9428 - val_loss: 0.2368 - val_accuracy: 0.9797\n",
            "Epoch 10/25\n",
            "25/25 [==============================] - 0s 11ms/step - loss: 0.7889 - accuracy: 0.9454 - val_loss: 0.4038 - val_accuracy: 0.9645\n",
            "Epoch 11/25\n",
            "25/25 [==============================] - 0s 11ms/step - loss: 0.7696 - accuracy: 0.9479 - val_loss: 3.8448 - val_accuracy: 0.6802\n",
            "Epoch 12/25\n",
            "25/25 [==============================] - 0s 11ms/step - loss: 0.7369 - accuracy: 0.9428 - val_loss: 1.6746 - val_accuracy: 0.8477\n",
            "Epoch 13/25\n",
            "25/25 [==============================] - 0s 11ms/step - loss: 0.4374 - accuracy: 0.9695 - val_loss: 0.7951 - val_accuracy: 0.9391\n",
            "Epoch 14/25\n",
            "25/25 [==============================] - 0s 11ms/step - loss: 0.5383 - accuracy: 0.9593 - val_loss: 0.4024 - val_accuracy: 0.9695\n",
            "Epoch 15/25\n",
            "25/25 [==============================] - 0s 11ms/step - loss: 0.5296 - accuracy: 0.9619 - val_loss: 1.2612 - val_accuracy: 0.9086\n",
            "Epoch 16/25\n",
            "25/25 [==============================] - 0s 11ms/step - loss: 0.5129 - accuracy: 0.9619 - val_loss: 0.3178 - val_accuracy: 0.9746\n",
            "Epoch 17/25\n",
            "25/25 [==============================] - 0s 11ms/step - loss: 0.4117 - accuracy: 0.9733 - val_loss: 0.2363 - val_accuracy: 0.9797\n",
            "Epoch 18/25\n",
            "25/25 [==============================] - 0s 11ms/step - loss: 0.4543 - accuracy: 0.9695 - val_loss: 0.0159 - val_accuracy: 0.9949\n",
            "Epoch 19/25\n",
            "25/25 [==============================] - 0s 11ms/step - loss: 0.2777 - accuracy: 0.9797 - val_loss: 0.0069 - val_accuracy: 0.9949\n",
            "Epoch 20/25\n",
            "25/25 [==============================] - 0s 11ms/step - loss: 0.2810 - accuracy: 0.9771 - val_loss: 0.0774 - val_accuracy: 0.9949\n",
            "Epoch 21/25\n",
            "25/25 [==============================] - 0s 11ms/step - loss: 0.2376 - accuracy: 0.9835 - val_loss: 0.2326 - val_accuracy: 0.9848\n",
            "Epoch 22/25\n",
            "25/25 [==============================] - 0s 11ms/step - loss: 0.2800 - accuracy: 0.9784 - val_loss: 0.0774 - val_accuracy: 0.9949\n",
            "Epoch 23/25\n",
            "25/25 [==============================] - 0s 11ms/step - loss: 0.3189 - accuracy: 0.9771 - val_loss: 2.7173e-04 - val_accuracy: 1.0000\n",
            "Epoch 24/25\n",
            "25/25 [==============================] - 0s 11ms/step - loss: 0.2019 - accuracy: 0.9835 - val_loss: 0.0019 - val_accuracy: 1.0000\n",
            "Epoch 25/25\n",
            "25/25 [==============================] - 0s 11ms/step - loss: 0.2544 - accuracy: 0.9835 - val_loss: 0.0098 - val_accuracy: 0.9949\n",
            "CPU times: user 10.6 s, sys: 774 ms, total: 11.4 s\n",
            "Wall time: 11.6 s\n"
          ]
        }
      ]
    },
    {
      "cell_type": "markdown",
      "source": [
        "we are successfully getting a decent accuracy of **99.49%** in the above Model\n",
        "\n",
        "---\n",
        "\n"
      ],
      "metadata": {
        "id": "4aDTwH4a57Wb"
      },
      "id": "4aDTwH4a57Wb"
    },
    {
      "cell_type": "markdown",
      "source": [
        "Plotting Model accuracy and Model Loss"
      ],
      "metadata": {
        "id": "kadpj7YZ6Lc5"
      },
      "id": "kadpj7YZ6Lc5"
    },
    {
      "cell_type": "code",
      "source": [
        " # plot\n",
        "def plot_learningcurve(his,epochs):\n",
        "  epoch=range(1,epochs+1)\n",
        "  # accuracy\n",
        "  plt.plot(epoch, his.history['accuracy'])\n",
        "  plt.plot(epoch, his.history['val_accuracy'])\n",
        "  plt.title('Model accuracy')\n",
        "  plt.xlabel('epoch')\n",
        "  plt.ylabel('accuracy')\n",
        "  plt.legend(['train','val'], loc='upper left')\n",
        "  plt.show()\n",
        "\n",
        "  # loss\n",
        "  plt.plot(epoch, his.history['loss'])\n",
        "  plt.plot(epoch, his.history['val_loss'])\n",
        "  plt.title('Model loss')\n",
        "  plt.xlabel('epoch')\n",
        "  plt.ylabel('loss')\n",
        "  plt.legend(['train','val'], loc='upper left')\n",
        "  plt.show()"
      ],
      "metadata": {
        "id": "6T7wwMhR68s3"
      },
      "id": "6T7wwMhR68s3",
      "execution_count": 154,
      "outputs": []
    },
    {
      "cell_type": "code",
      "source": [
        "plot_learningcurve(model_his,25)"
      ],
      "metadata": {
        "id": "2FTZwiiv7NlB",
        "colab": {
          "base_uri": "https://localhost:8080/",
          "height": 573
        },
        "outputId": "1b0c2a97-957a-4293-d21b-ae34d80e74d0"
      },
      "id": "2FTZwiiv7NlB",
      "execution_count": 156,
      "outputs": [
        {
          "output_type": "display_data",
          "data": {
            "text/plain": [
              "<Figure size 432x288 with 1 Axes>"
            ],
            "image/png": "[encoded data removed]"
          },
          "metadata": {
            "needs_background": "light"
          }
        },
        {
          "output_type": "display_data",
          "data": {
            "text/plain": [
              "<Figure size 432x288 with 1 Axes>"
            ],
            "image/png": "[encoded data removed]"
          },
          "metadata": {
            "needs_background": "light"
          }
        }
      ]
    },
    {
      "cell_type": "code",
      "source": [
        ""
      ],
      "metadata": {
        "id": "GwiE4mr551lQ"
      },
      "id": "GwiE4mr551lQ",
      "execution_count": 156,
      "outputs": []
    }
  ],
  "metadata": {
    "kernelspec": {
      "display_name": "Python 3 (ipykernel)",
      "language": "python",
      "name": "python3"
    },
    "language_info": {
      "codemirror_mode": {
        "name": "ipython",
        "version": 3
      },
      "file_extension": ".py",
      "mimetype": "text/x-python",
      "name": "python",
      "nbconvert_exporter": "python",
      "pygments_lexer": "ipython3",
      "version": "3.9.12"
    },
    "colab": {
      "name": "Credit Card Fraud Detection using CNN.ipynb",
      "provenance": [],
      "collapsed_sections": []
    }
  },
  "nbformat": 4,
  "nbformat_minor": 5
}