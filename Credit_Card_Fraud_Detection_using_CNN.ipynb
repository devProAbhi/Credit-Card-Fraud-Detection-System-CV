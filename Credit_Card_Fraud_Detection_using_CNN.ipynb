{
  "cells": [
    {
      "cell_type": "markdown",
      "id": "660f4bf8",
      "metadata": {
        "id": "660f4bf8"
      },
      "source": [
        "# Credit Card Fraud Detection"
      ]
    },
    {
      "cell_type": "markdown",
      "source": [
        "We will perform CNN on Credit Card Dataset to check whether the transactions are fraud or not"
      ],
      "metadata": {
        "id": "dm8wmEsI0VFi"
      },
      "id": "dm8wmEsI0VFi"
    },
    {
      "cell_type": "code",
      "execution_count": 407,
      "id": "71cd468c",
      "metadata": {
        "id": "71cd468c"
      },
      "outputs": [],
      "source": [
        "#importing all libraries\n",
        "import numpy as np\n",
        "import pandas as pd\n",
        "import matplotlib.pyplot as plt\n",
        "import seaborn as sns\n",
        "from sklearn.model_selection import train_test_split\n",
        "from sklearn.preprocessing import StandardScaler"
      ]
    },
    {
      "cell_type": "code",
      "execution_count": 408,
      "id": "b22d7ca0",
      "metadata": {
        "id": "b22d7ca0"
      },
      "outputs": [],
      "source": [
        "#!pip install tensorflow\n",
        "#!pip install keras"
      ]
    },
    {
      "cell_type": "code",
      "execution_count": 409,
      "id": "9a812caf",
      "metadata": {
        "id": "9a812caf"
      },
      "outputs": [],
      "source": [
        "import tensorflow as tf\n",
        "import keras"
      ]
    },
    {
      "cell_type": "code",
      "source": [
        "# import the dataset          //Link - ####\n",
        "data=pd.read_csv('./creditcard.csv.zip')\n",
        "data.head()"
      ],
      "metadata": {
        "colab": {
          "base_uri": "https://localhost:8080/",
          "height": 299
        },
        "id": "3H9WN9v2zAxr",
        "outputId": "6a9954ea-55a3-4e08-b2b8-f052912c15b6"
      },
      "id": "3H9WN9v2zAxr",
      "execution_count": 410,
      "outputs": [
        {
          "output_type": "execute_result",
          "data": {
            "text/plain": [
              "   Time        V1        V2        V3        V4        V5        V6        V7  \\\n",
              "0   0.0 -1.359807 -0.072781  2.536347  1.378155 -0.338321  0.462388  0.239599   \n",
              "1   0.0  1.191857  0.266151  0.166480  0.448154  0.060018 -0.082361 -0.078803   \n",
              "2   1.0 -1.358354 -1.340163  1.773209  0.379780 -0.503198  1.800499  0.791461   \n",
              "3   1.0 -0.966272 -0.185226  1.792993 -0.863291 -0.010309  1.247203  0.237609   \n",
              "4   2.0 -1.158233  0.877737  1.548718  0.403034 -0.407193  0.095921  0.592941   \n",
              "\n",
              "         V8        V9  ...       V21       V22       V23       V24       V25  \\\n",
              "0  0.098698  0.363787  ... -0.018307  0.277838 -0.110474  0.066928  0.128539   \n",
              "1  0.085102 -0.255425  ... -0.225775 -0.638672  0.101288 -0.339846  0.167170   \n",
              "2  0.247676 -1.514654  ...  0.247998  0.771679  0.909412 -0.689281 -0.327642   \n",
              "3  0.377436 -1.387024  ... -0.108300  0.005274 -0.190321 -1.175575  0.647376   \n",
              "4 -0.270533  0.817739  ... -0.009431  0.798278 -0.137458  0.141267 -0.206010   \n",
              "\n",
              "        V26       V27       V28  Amount  Class  \n",
              "0 -0.189115  0.133558 -0.021053  149.62      0  \n",
              "1  0.125895 -0.008983  0.014724    2.69      0  \n",
              "2 -0.139097 -0.055353 -0.059752  378.66      0  \n",
              "3 -0.221929  0.062723  0.061458  123.50      0  \n",
              "4  0.502292  0.219422  0.215153   69.99      0  \n",
              "\n",
              "[5 rows x 31 columns]"
            ],
            "text/html": [
              "\n",
              "  <div id=\"df-324d593b-4a8a-4466-ba22-fc6032fcbaca\">\n",
              "    <div class=\"colab-df-container\">\n",
              "      <div>\n",
              "<style scoped>\n",
              "    .dataframe tbody tr th:only-of-type {\n",
              "        vertical-align: middle;\n",
              "    }\n",
              "\n",
              "    .dataframe tbody tr th {\n",
              "        vertical-align: top;\n",
              "    }\n",
              "\n",
              "    .dataframe thead th {\n",
              "        text-align: right;\n",
              "    }\n",
              "</style>\n",
              "<table border=\"1\" class=\"dataframe\">\n",
              "  <thead>\n",
              "    <tr style=\"text-align: right;\">\n",
              "      <th></th>\n",
              "      <th>Time</th>\n",
              "      <th>V1</th>\n",
              "      <th>V2</th>\n",
              "      <th>V3</th>\n",
              "      <th>V4</th>\n",
              "      <th>V5</th>\n",
              "      <th>V6</th>\n",
              "      <th>V7</th>\n",
              "      <th>V8</th>\n",
              "      <th>V9</th>\n",
              "      <th>...</th>\n",
              "      <th>V21</th>\n",
              "      <th>V22</th>\n",
              "      <th>V23</th>\n",
              "      <th>V24</th>\n",
              "      <th>V25</th>\n",
              "      <th>V26</th>\n",
              "      <th>V27</th>\n",
              "      <th>V28</th>\n",
              "      <th>Amount</th>\n",
              "      <th>Class</th>\n",
              "    </tr>\n",
              "  </thead>\n",
              "  <tbody>\n",
              "    <tr>\n",
              "      <th>0</th>\n",
              "      <td>0.0</td>\n",
              "      <td>-1.359807</td>\n",
              "      <td>-0.072781</td>\n",
              "      <td>2.536347</td>\n",
              "      <td>1.378155</td>\n",
              "      <td>-0.338321</td>\n",
              "      <td>0.462388</td>\n",
              "      <td>0.239599</td>\n",
              "      <td>0.098698</td>\n",
              "      <td>0.363787</td>\n",
              "      <td>...</td>\n",
              "      <td>-0.018307</td>\n",
              "      <td>0.277838</td>\n",
              "      <td>-0.110474</td>\n",
              "      <td>0.066928</td>\n",
              "      <td>0.128539</td>\n",
              "      <td>-0.189115</td>\n",
              "      <td>0.133558</td>\n",
              "      <td>-0.021053</td>\n",
              "      <td>149.62</td>\n",
              "      <td>0</td>\n",
              "    </tr>\n",
              "    <tr>\n",
              "      <th>1</th>\n",
              "      <td>0.0</td>\n",
              "      <td>1.191857</td>\n",
              "      <td>0.266151</td>\n",
              "      <td>0.166480</td>\n",
              "      <td>0.448154</td>\n",
              "      <td>0.060018</td>\n",
              "      <td>-0.082361</td>\n",
              "      <td>-0.078803</td>\n",
              "      <td>0.085102</td>\n",
              "      <td>-0.255425</td>\n",
              "      <td>...</td>\n",
              "      <td>-0.225775</td>\n",
              "      <td>-0.638672</td>\n",
              "      <td>0.101288</td>\n",
              "      <td>-0.339846</td>\n",
              "      <td>0.167170</td>\n",
              "      <td>0.125895</td>\n",
              "      <td>-0.008983</td>\n",
              "      <td>0.014724</td>\n",
              "      <td>2.69</td>\n",
              "      <td>0</td>\n",
              "    </tr>\n",
              "    <tr>\n",
              "      <th>2</th>\n",
              "      <td>1.0</td>\n",
              "      <td>-1.358354</td>\n",
              "      <td>-1.340163</td>\n",
              "      <td>1.773209</td>\n",
              "      <td>0.379780</td>\n",
              "      <td>-0.503198</td>\n",
              "      <td>1.800499</td>\n",
              "      <td>0.791461</td>\n",
              "      <td>0.247676</td>\n",
              "      <td>-1.514654</td>\n",
              "      <td>...</td>\n",
              "      <td>0.247998</td>\n",
              "      <td>0.771679</td>\n",
              "      <td>0.909412</td>\n",
              "      <td>-0.689281</td>\n",
              "      <td>-0.327642</td>\n",
              "      <td>-0.139097</td>\n",
              "      <td>-0.055353</td>\n",
              "      <td>-0.059752</td>\n",
              "      <td>378.66</td>\n",
              "      <td>0</td>\n",
              "    </tr>\n",
              "    <tr>\n",
              "      <th>3</th>\n",
              "      <td>1.0</td>\n",
              "      <td>-0.966272</td>\n",
              "      <td>-0.185226</td>\n",
              "      <td>1.792993</td>\n",
              "      <td>-0.863291</td>\n",
              "      <td>-0.010309</td>\n",
              "      <td>1.247203</td>\n",
              "      <td>0.237609</td>\n",
              "      <td>0.377436</td>\n",
              "      <td>-1.387024</td>\n",
              "      <td>...</td>\n",
              "      <td>-0.108300</td>\n",
              "      <td>0.005274</td>\n",
              "      <td>-0.190321</td>\n",
              "      <td>-1.175575</td>\n",
              "      <td>0.647376</td>\n",
              "      <td>-0.221929</td>\n",
              "      <td>0.062723</td>\n",
              "      <td>0.061458</td>\n",
              "      <td>123.50</td>\n",
              "      <td>0</td>\n",
              "    </tr>\n",
              "    <tr>\n",
              "      <th>4</th>\n",
              "      <td>2.0</td>\n",
              "      <td>-1.158233</td>\n",
              "      <td>0.877737</td>\n",
              "      <td>1.548718</td>\n",
              "      <td>0.403034</td>\n",
              "      <td>-0.407193</td>\n",
              "      <td>0.095921</td>\n",
              "      <td>0.592941</td>\n",
              "      <td>-0.270533</td>\n",
              "      <td>0.817739</td>\n",
              "      <td>...</td>\n",
              "      <td>-0.009431</td>\n",
              "      <td>0.798278</td>\n",
              "      <td>-0.137458</td>\n",
              "      <td>0.141267</td>\n",
              "      <td>-0.206010</td>\n",
              "      <td>0.502292</td>\n",
              "      <td>0.219422</td>\n",
              "      <td>0.215153</td>\n",
              "      <td>69.99</td>\n",
              "      <td>0</td>\n",
              "    </tr>\n",
              "  </tbody>\n",
              "</table>\n",
              "<p>5 rows × 31 columns</p>\n",
              "</div>\n",
              "      <button class=\"colab-df-convert\" onclick=\"convertToInteractive('df-324d593b-4a8a-4466-ba22-fc6032fcbaca')\"\n",
              "              title=\"Convert this dataframe to an interactive table.\"\n",
              "              style=\"display:none;\">\n",
              "        \n",
              "  <svg xmlns=\"http://www.w3.org/2000/svg\" height=\"24px\"viewBox=\"0 0 24 24\"\n",
              "       width=\"24px\">\n",
              "    <path d=\"M0 0h24v24H0V0z\" fill=\"none\"/>\n",
              "    <path d=\"M18.56 5.44l.94 2.06.94-2.06 2.06-.94-2.06-.94-.94-2.06-.94 2.06-2.06.94zm-11 1L8.5 8.5l.94-2.06 2.06-.94-2.06-.94L8.5 2.5l-.94 2.06-2.06.94zm10 10l.94 2.06.94-2.06 2.06-.94-2.06-.94-.94-2.06-.94 2.06-2.06.94z\"/><path d=\"M17.41 7.96l-1.37-1.37c-.4-.4-.92-.59-1.43-.59-.52 0-1.04.2-1.43.59L10.3 9.45l-7.72 7.72c-.78.78-.78 2.05 0 2.83L4 21.41c.39.39.9.59 1.41.59.51 0 1.02-.2 1.41-.59l7.78-7.78 2.81-2.81c.8-.78.8-2.07 0-2.86zM5.41 20L4 18.59l7.72-7.72 1.47 1.35L5.41 20z\"/>\n",
              "  </svg>\n",
              "      </button>\n",
              "      \n",
              "  <style>\n",
              "    .colab-df-container {\n",
              "      display:flex;\n",
              "      flex-wrap:wrap;\n",
              "      gap: 12px;\n",
              "    }\n",
              "\n",
              "    .colab-df-convert {\n",
              "      background-color: #E8F0FE;\n",
              "      border: none;\n",
              "      border-radius: 50%;\n",
              "      cursor: pointer;\n",
              "      display: none;\n",
              "      fill: #1967D2;\n",
              "      height: 32px;\n",
              "      padding: 0 0 0 0;\n",
              "      width: 32px;\n",
              "    }\n",
              "\n",
              "    .colab-df-convert:hover {\n",
              "      background-color: #E2EBFA;\n",
              "      box-shadow: 0px 1px 2px rgba(60, 64, 67, 0.3), 0px 1px 3px 1px rgba(60, 64, 67, 0.15);\n",
              "      fill: #174EA6;\n",
              "    }\n",
              "\n",
              "    [theme=dark] .colab-df-convert {\n",
              "      background-color: #3B4455;\n",
              "      fill: #D2E3FC;\n",
              "    }\n",
              "\n",
              "    [theme=dark] .colab-df-convert:hover {\n",
              "      background-color: #434B5C;\n",
              "      box-shadow: 0px 1px 3px 1px rgba(0, 0, 0, 0.15);\n",
              "      filter: drop-shadow(0px 1px 2px rgba(0, 0, 0, 0.3));\n",
              "      fill: #FFFFFF;\n",
              "    }\n",
              "  </style>\n",
              "\n",
              "      <script>\n",
              "        const buttonEl =\n",
              "          document.querySelector('#df-324d593b-4a8a-4466-ba22-fc6032fcbaca button.colab-df-convert');\n",
              "        buttonEl.style.display =\n",
              "          google.colab.kernel.accessAllowed ? 'block' : 'none';\n",
              "\n",
              "        async function convertToInteractive(key) {\n",
              "          const element = document.querySelector('#df-324d593b-4a8a-4466-ba22-fc6032fcbaca');\n",
              "          const dataTable =\n",
              "            await google.colab.kernel.invokeFunction('convertToInteractive',\n",
              "                                                     [key], {});\n",
              "          if (!dataTable) return;\n",
              "\n",
              "          const docLinkHtml = 'Like what you see? Visit the ' +\n",
              "            '<a target=\"_blank\" href=https://colab.research.google.com/notebooks/data_table.ipynb>data table notebook</a>'\n",
              "            + ' to learn more about interactive tables.';\n",
              "          element.innerHTML = '';\n",
              "          dataTable['output_type'] = 'display_data';\n",
              "          await google.colab.output.renderOutput(dataTable, element);\n",
              "          const docLink = document.createElement('div');\n",
              "          docLink.innerHTML = docLinkHtml;\n",
              "          element.appendChild(docLink);\n",
              "        }\n",
              "      </script>\n",
              "    </div>\n",
              "  </div>\n",
              "  "
            ]
          },
          "metadata": {},
          "execution_count": 410
        }
      ]
    },
    {
      "cell_type": "code",
      "source": [
        "#check the shape of our dataset\n",
        "data.shape"
      ],
      "metadata": {
        "id": "j3_OLZ2szSSa",
        "colab": {
          "base_uri": "https://localhost:8080/"
        },
        "outputId": "4fc6d64e-7bcd-4a88-9618-f28f2854bbb5"
      },
      "id": "j3_OLZ2szSSa",
      "execution_count": 411,
      "outputs": [
        {
          "output_type": "execute_result",
          "data": {
            "text/plain": [
              "(284807, 31)"
            ]
          },
          "metadata": {},
          "execution_count": 411
        }
      ]
    },
    {
      "cell_type": "markdown",
      "source": [
        "Here there are 31 columns and the last column is the target variable named Class"
      ],
      "metadata": {
        "id": "Gbhm5eXn0lBd"
      },
      "id": "Gbhm5eXn0lBd"
    },
    {
      "cell_type": "code",
      "source": [
        "#we will check if there are any null values in the dataset\n",
        "data.isnull().sum()"
      ],
      "metadata": {
        "id": "X1gRxX9BzyGr",
        "colab": {
          "base_uri": "https://localhost:8080/"
        },
        "outputId": "2b2dd85f-7a31-4efb-dce0-7d578dcd94cf"
      },
      "id": "X1gRxX9BzyGr",
      "execution_count": 412,
      "outputs": [
        {
          "output_type": "execute_result",
          "data": {
            "text/plain": [
              "Time      0\n",
              "V1        0\n",
              "V2        0\n",
              "V3        0\n",
              "V4        0\n",
              "V5        0\n",
              "V6        0\n",
              "V7        0\n",
              "V8        0\n",
              "V9        0\n",
              "V10       0\n",
              "V11       0\n",
              "V12       0\n",
              "V13       0\n",
              "V14       0\n",
              "V15       0\n",
              "V16       0\n",
              "V17       0\n",
              "V18       0\n",
              "V19       0\n",
              "V20       0\n",
              "V21       0\n",
              "V22       0\n",
              "V23       0\n",
              "V24       0\n",
              "V25       0\n",
              "V26       0\n",
              "V27       0\n",
              "V28       0\n",
              "Amount    0\n",
              "Class     0\n",
              "dtype: int64"
            ]
          },
          "metadata": {},
          "execution_count": 412
        }
      ]
    },
    {
      "cell_type": "markdown",
      "source": [
        "We can see that there is no null value in the dataset"
      ],
      "metadata": {
        "id": "xJw0jGp308p1"
      },
      "id": "xJw0jGp308p1"
    },
    {
      "cell_type": "code",
      "source": [
        "data.info()"
      ],
      "metadata": {
        "id": "b_udPQ_Ez4nq",
        "colab": {
          "base_uri": "https://localhost:8080/"
        },
        "outputId": "36018cb3-6538-4aea-ab19-3144ba2710f9"
      },
      "id": "b_udPQ_Ez4nq",
      "execution_count": 413,
      "outputs": [
        {
          "output_type": "stream",
          "name": "stdout",
          "text": [
            "<class 'pandas.core.frame.DataFrame'>\n",
            "RangeIndex: 284807 entries, 0 to 284806\n",
            "Data columns (total 31 columns):\n",
            " #   Column  Non-Null Count   Dtype  \n",
            "---  ------  --------------   -----  \n",
            " 0   Time    284807 non-null  float64\n",
            " 1   V1      284807 non-null  float64\n",
            " 2   V2      284807 non-null  float64\n",
            " 3   V3      284807 non-null  float64\n",
            " 4   V4      284807 non-null  float64\n",
            " 5   V5      284807 non-null  float64\n",
            " 6   V6      284807 non-null  float64\n",
            " 7   V7      284807 non-null  float64\n",
            " 8   V8      284807 non-null  float64\n",
            " 9   V9      284807 non-null  float64\n",
            " 10  V10     284807 non-null  float64\n",
            " 11  V11     284807 non-null  float64\n",
            " 12  V12     284807 non-null  float64\n",
            " 13  V13     284807 non-null  float64\n",
            " 14  V14     284807 non-null  float64\n",
            " 15  V15     284807 non-null  float64\n",
            " 16  V16     284807 non-null  float64\n",
            " 17  V17     284807 non-null  float64\n",
            " 18  V18     284807 non-null  float64\n",
            " 19  V19     284807 non-null  float64\n",
            " 20  V20     284807 non-null  float64\n",
            " 21  V21     284807 non-null  float64\n",
            " 22  V22     284807 non-null  float64\n",
            " 23  V23     284807 non-null  float64\n",
            " 24  V24     284807 non-null  float64\n",
            " 25  V25     284807 non-null  float64\n",
            " 26  V26     284807 non-null  float64\n",
            " 27  V27     284807 non-null  float64\n",
            " 28  V28     284807 non-null  float64\n",
            " 29  Amount  284807 non-null  float64\n",
            " 30  Class   284807 non-null  int64  \n",
            "dtypes: float64(30), int64(1)\n",
            "memory usage: 67.4 MB\n"
          ]
        }
      ]
    },
    {
      "cell_type": "code",
      "source": [
        "#checking that how many values are present in the 'class' having values as 0 or 1\n",
        "data['Class'].value_counts()"
      ],
      "metadata": {
        "id": "BoiNMhh3z-6W",
        "colab": {
          "base_uri": "https://localhost:8080/"
        },
        "outputId": "f8ea549d-cb7a-4742-b206-790e3cefcb66"
      },
      "id": "BoiNMhh3z-6W",
      "execution_count": 414,
      "outputs": [
        {
          "output_type": "execute_result",
          "data": {
            "text/plain": [
              "0    284315\n",
              "1       492\n",
              "Name: Class, dtype: int64"
            ]
          },
          "metadata": {},
          "execution_count": 414
        }
      ]
    },
    {
      "cell_type": "markdown",
      "source": [
        "Here there are legitimate 284315 transactions and the transactions which are fraud are only 492.\n",
        "So we can say that data is highly imbalanced, we have to balance the dataset"
      ],
      "metadata": {
        "id": "zzKo1jcb1Oft"
      },
      "id": "zzKo1jcb1Oft"
    },
    {
      "cell_type": "code",
      "source": [
        "#dividing the dataframe into fraud and non fraud data\n",
        "non_fraud=data[data['Class']==0]\n",
        "fraud=data[data['Class']==1]"
      ],
      "metadata": {
        "id": "LoHKaiR41njq"
      },
      "id": "LoHKaiR41njq",
      "execution_count": 415,
      "outputs": []
    },
    {
      "cell_type": "code",
      "source": [
        "non_fraud.shape, fraud.shape"
      ],
      "metadata": {
        "id": "mFFfNiUP1rDI",
        "colab": {
          "base_uri": "https://localhost:8080/"
        },
        "outputId": "d998fcb5-b110-41c5-c98c-b55fc76bec2b"
      },
      "id": "mFFfNiUP1rDI",
      "execution_count": 416,
      "outputs": [
        {
          "output_type": "execute_result",
          "data": {
            "text/plain": [
              "((284315, 31), (492, 31))"
            ]
          },
          "metadata": {},
          "execution_count": 416
        }
      ]
    },
    {
      "cell_type": "markdown",
      "source": [
        "We are going to make the non_fraud data frame of the same size of the fraud.shape to match the entries"
      ],
      "metadata": {
        "id": "RdJDxTqC187G"
      },
      "id": "RdJDxTqC187G"
    },
    {
      "cell_type": "markdown",
      "source": [
        "Balancing the dataset"
      ],
      "metadata": {
        "id": "2_MaesFW2M-N"
      },
      "id": "2_MaesFW2M-N"
    },
    {
      "cell_type": "code",
      "source": [
        "# Now we are randomly going to select the 492 non-fraud entries from the dataframe \n",
        "non_fraud=non_fraud.sample(fraud.shape[0])\n",
        "non_fraud.shape"
      ],
      "metadata": {
        "id": "1Wrrh9au2Jb5",
        "colab": {
          "base_uri": "https://localhost:8080/"
        },
        "outputId": "6a61058b-5406-4423-ebad-1394f21c58a8"
      },
      "id": "1Wrrh9au2Jb5",
      "execution_count": 417,
      "outputs": [
        {
          "output_type": "execute_result",
          "data": {
            "text/plain": [
              "(492, 31)"
            ]
          },
          "metadata": {},
          "execution_count": 417
        }
      ]
    },
    {
      "cell_type": "markdown",
      "source": [
        "Now that we have data that is balanced, we will merge the dataset of non_fraud and fraud transactions"
      ],
      "metadata": {
        "id": "tZ0fZzsi2bZY"
      },
      "id": "tZ0fZzsi2bZY"
    },
    {
      "cell_type": "code",
      "source": [
        "dataset=fraud.append(non_fraud, ignore_index=True)\n",
        "dataset"
      ],
      "metadata": {
        "id": "wnYzG42K2Z9J",
        "colab": {
          "base_uri": "https://localhost:8080/",
          "height": 488
        },
        "outputId": "8fa887bd-a106-43fc-976f-840ac9b5a99d"
      },
      "id": "wnYzG42K2Z9J",
      "execution_count": 418,
      "outputs": [
        {
          "output_type": "execute_result",
          "data": {
            "text/plain": [
              "         Time        V1        V2        V3        V4        V5        V6  \\\n",
              "0       406.0 -2.312227  1.951992 -1.609851  3.997906 -0.522188 -1.426545   \n",
              "1       472.0 -3.043541 -3.157307  1.088463  2.288644  1.359805 -1.064823   \n",
              "2      4462.0 -2.303350  1.759247 -0.359745  2.330243 -0.821628 -0.075788   \n",
              "3      6986.0 -4.397974  1.358367 -2.592844  2.679787 -1.128131 -1.706536   \n",
              "4      7519.0  1.234235  3.019740 -4.304597  4.732795  3.624201 -1.357746   \n",
              "..        ...       ...       ...       ...       ...       ...       ...   \n",
              "979  126514.0  2.009878 -0.419837 -1.048880  0.161955 -0.286948 -0.533236   \n",
              "980  120604.0  2.127571 -1.038377 -0.554633 -0.942419 -1.028566 -0.359125   \n",
              "981  127824.0  0.488722  1.039265 -0.488136  1.270368  0.415800 -0.940575   \n",
              "982  153385.0  2.055887 -0.793772 -0.322353 -0.216264 -1.112202 -0.664867   \n",
              "983   75465.0 -0.558992  0.827252  1.746995  0.879918 -0.118200 -0.090725   \n",
              "\n",
              "           V7        V8        V9  ...       V21       V22       V23  \\\n",
              "0   -2.537387  1.391657 -2.770089  ...  0.517232 -0.035049 -0.465211   \n",
              "1    0.325574 -0.067794 -0.270953  ...  0.661696  0.435477  1.375966   \n",
              "2    0.562320 -0.399147 -0.238253  ... -0.294166 -0.932391  0.172726   \n",
              "3   -3.496197 -0.248778 -0.247768  ...  0.573574  0.176968 -0.436207   \n",
              "4    1.713445 -0.496358 -1.282858  ... -0.379068 -0.704181 -0.656805   \n",
              "..        ...       ...       ...  ...       ...       ...       ...   \n",
              "979 -0.309107  0.026197  0.799434  ... -0.011930  0.001342  0.180537   \n",
              "980 -1.073927 -0.000746 -0.113952  ...  0.359123  1.080480  0.076285   \n",
              "981  0.936812 -0.410632 -0.569363  ...  0.421984  1.472289 -0.005639   \n",
              "982 -0.757331 -0.126868  0.110988  ... -0.567928 -1.045090  0.461750   \n",
              "983  1.380377 -0.334685 -0.265729  ... -0.023251  0.327220 -0.089572   \n",
              "\n",
              "          V24       V25       V26       V27       V28  Amount  Class  \n",
              "0    0.320198  0.044519  0.177840  0.261145 -0.143276    0.00      1  \n",
              "1   -0.293803  0.279798 -0.145362 -0.252773  0.035764  529.00      1  \n",
              "2   -0.087330 -0.156114 -0.542628  0.039566 -0.153029  239.93      1  \n",
              "3   -0.053502  0.252405 -0.657488 -0.827136  0.849573   59.00      1  \n",
              "4   -1.632653  1.488901  0.566797 -0.010016  0.146793    1.00      1  \n",
              "..        ...       ...       ...       ...       ...     ...    ...  \n",
              "979 -0.403852 -0.269642  0.567479 -0.081854 -0.077994   10.00      0  \n",
              "980 -0.295380 -0.138017 -0.088578  0.005407 -0.059745   19.95      0  \n",
              "981  0.040475 -1.124174  0.128788  0.345545  0.316235   47.18      0  \n",
              "982 -0.098720 -0.559900 -0.661451  0.058138 -0.023431   25.97      0  \n",
              "983  0.630594  0.138687 -0.426980 -0.157395 -0.189037  100.79      0  \n",
              "\n",
              "[984 rows x 31 columns]"
            ],
            "text/html": [
              "\n",
              "  <div id=\"df-cec438fb-eab6-4f86-b9d7-7d372f140712\">\n",
              "    <div class=\"colab-df-container\">\n",
              "      <div>\n",
              "<style scoped>\n",
              "    .dataframe tbody tr th:only-of-type {\n",
              "        vertical-align: middle;\n",
              "    }\n",
              "\n",
              "    .dataframe tbody tr th {\n",
              "        vertical-align: top;\n",
              "    }\n",
              "\n",
              "    .dataframe thead th {\n",
              "        text-align: right;\n",
              "    }\n",
              "</style>\n",
              "<table border=\"1\" class=\"dataframe\">\n",
              "  <thead>\n",
              "    <tr style=\"text-align: right;\">\n",
              "      <th></th>\n",
              "      <th>Time</th>\n",
              "      <th>V1</th>\n",
              "      <th>V2</th>\n",
              "      <th>V3</th>\n",
              "      <th>V4</th>\n",
              "      <th>V5</th>\n",
              "      <th>V6</th>\n",
              "      <th>V7</th>\n",
              "      <th>V8</th>\n",
              "      <th>V9</th>\n",
              "      <th>...</th>\n",
              "      <th>V21</th>\n",
              "      <th>V22</th>\n",
              "      <th>V23</th>\n",
              "      <th>V24</th>\n",
              "      <th>V25</th>\n",
              "      <th>V26</th>\n",
              "      <th>V27</th>\n",
              "      <th>V28</th>\n",
              "      <th>Amount</th>\n",
              "      <th>Class</th>\n",
              "    </tr>\n",
              "  </thead>\n",
              "  <tbody>\n",
              "    <tr>\n",
              "      <th>0</th>\n",
              "      <td>406.0</td>\n",
              "      <td>-2.312227</td>\n",
              "      <td>1.951992</td>\n",
              "      <td>-1.609851</td>\n",
              "      <td>3.997906</td>\n",
              "      <td>-0.522188</td>\n",
              "      <td>-1.426545</td>\n",
              "      <td>-2.537387</td>\n",
              "      <td>1.391657</td>\n",
              "      <td>-2.770089</td>\n",
              "      <td>...</td>\n",
              "      <td>0.517232</td>\n",
              "      <td>-0.035049</td>\n",
              "      <td>-0.465211</td>\n",
              "      <td>0.320198</td>\n",
              "      <td>0.044519</td>\n",
              "      <td>0.177840</td>\n",
              "      <td>0.261145</td>\n",
              "      <td>-0.143276</td>\n",
              "      <td>0.00</td>\n",
              "      <td>1</td>\n",
              "    </tr>\n",
              "    <tr>\n",
              "      <th>1</th>\n",
              "      <td>472.0</td>\n",
              "      <td>-3.043541</td>\n",
              "      <td>-3.157307</td>\n",
              "      <td>1.088463</td>\n",
              "      <td>2.288644</td>\n",
              "      <td>1.359805</td>\n",
              "      <td>-1.064823</td>\n",
              "      <td>0.325574</td>\n",
              "      <td>-0.067794</td>\n",
              "      <td>-0.270953</td>\n",
              "      <td>...</td>\n",
              "      <td>0.661696</td>\n",
              "      <td>0.435477</td>\n",
              "      <td>1.375966</td>\n",
              "      <td>-0.293803</td>\n",
              "      <td>0.279798</td>\n",
              "      <td>-0.145362</td>\n",
              "      <td>-0.252773</td>\n",
              "      <td>0.035764</td>\n",
              "      <td>529.00</td>\n",
              "      <td>1</td>\n",
              "    </tr>\n",
              "    <tr>\n",
              "      <th>2</th>\n",
              "      <td>4462.0</td>\n",
              "      <td>-2.303350</td>\n",
              "      <td>1.759247</td>\n",
              "      <td>-0.359745</td>\n",
              "      <td>2.330243</td>\n",
              "      <td>-0.821628</td>\n",
              "      <td>-0.075788</td>\n",
              "      <td>0.562320</td>\n",
              "      <td>-0.399147</td>\n",
              "      <td>-0.238253</td>\n",
              "      <td>...</td>\n",
              "      <td>-0.294166</td>\n",
              "      <td>-0.932391</td>\n",
              "      <td>0.172726</td>\n",
              "      <td>-0.087330</td>\n",
              "      <td>-0.156114</td>\n",
              "      <td>-0.542628</td>\n",
              "      <td>0.039566</td>\n",
              "      <td>-0.153029</td>\n",
              "      <td>239.93</td>\n",
              "      <td>1</td>\n",
              "    </tr>\n",
              "    <tr>\n",
              "      <th>3</th>\n",
              "      <td>6986.0</td>\n",
              "      <td>-4.397974</td>\n",
              "      <td>1.358367</td>\n",
              "      <td>-2.592844</td>\n",
              "      <td>2.679787</td>\n",
              "      <td>-1.128131</td>\n",
              "      <td>-1.706536</td>\n",
              "      <td>-3.496197</td>\n",
              "      <td>-0.248778</td>\n",
              "      <td>-0.247768</td>\n",
              "      <td>...</td>\n",
              "      <td>0.573574</td>\n",
              "      <td>0.176968</td>\n",
              "      <td>-0.436207</td>\n",
              "      <td>-0.053502</td>\n",
              "      <td>0.252405</td>\n",
              "      <td>-0.657488</td>\n",
              "      <td>-0.827136</td>\n",
              "      <td>0.849573</td>\n",
              "      <td>59.00</td>\n",
              "      <td>1</td>\n",
              "    </tr>\n",
              "    <tr>\n",
              "      <th>4</th>\n",
              "      <td>7519.0</td>\n",
              "      <td>1.234235</td>\n",
              "      <td>3.019740</td>\n",
              "      <td>-4.304597</td>\n",
              "      <td>4.732795</td>\n",
              "      <td>3.624201</td>\n",
              "      <td>-1.357746</td>\n",
              "      <td>1.713445</td>\n",
              "      <td>-0.496358</td>\n",
              "      <td>-1.282858</td>\n",
              "      <td>...</td>\n",
              "      <td>-0.379068</td>\n",
              "      <td>-0.704181</td>\n",
              "      <td>-0.656805</td>\n",
              "      <td>-1.632653</td>\n",
              "      <td>1.488901</td>\n",
              "      <td>0.566797</td>\n",
              "      <td>-0.010016</td>\n",
              "      <td>0.146793</td>\n",
              "      <td>1.00</td>\n",
              "      <td>1</td>\n",
              "    </tr>\n",
              "    <tr>\n",
              "      <th>...</th>\n",
              "      <td>...</td>\n",
              "      <td>...</td>\n",
              "      <td>...</td>\n",
              "      <td>...</td>\n",
              "      <td>...</td>\n",
              "      <td>...</td>\n",
              "      <td>...</td>\n",
              "      <td>...</td>\n",
              "      <td>...</td>\n",
              "      <td>...</td>\n",
              "      <td>...</td>\n",
              "      <td>...</td>\n",
              "      <td>...</td>\n",
              "      <td>...</td>\n",
              "      <td>...</td>\n",
              "      <td>...</td>\n",
              "      <td>...</td>\n",
              "      <td>...</td>\n",
              "      <td>...</td>\n",
              "      <td>...</td>\n",
              "      <td>...</td>\n",
              "    </tr>\n",
              "    <tr>\n",
              "      <th>979</th>\n",
              "      <td>126514.0</td>\n",
              "      <td>2.009878</td>\n",
              "      <td>-0.419837</td>\n",
              "      <td>-1.048880</td>\n",
              "      <td>0.161955</td>\n",
              "      <td>-0.286948</td>\n",
              "      <td>-0.533236</td>\n",
              "      <td>-0.309107</td>\n",
              "      <td>0.026197</td>\n",
              "      <td>0.799434</td>\n",
              "      <td>...</td>\n",
              "      <td>-0.011930</td>\n",
              "      <td>0.001342</td>\n",
              "      <td>0.180537</td>\n",
              "      <td>-0.403852</td>\n",
              "      <td>-0.269642</td>\n",
              "      <td>0.567479</td>\n",
              "      <td>-0.081854</td>\n",
              "      <td>-0.077994</td>\n",
              "      <td>10.00</td>\n",
              "      <td>0</td>\n",
              "    </tr>\n",
              "    <tr>\n",
              "      <th>980</th>\n",
              "      <td>120604.0</td>\n",
              "      <td>2.127571</td>\n",
              "      <td>-1.038377</td>\n",
              "      <td>-0.554633</td>\n",
              "      <td>-0.942419</td>\n",
              "      <td>-1.028566</td>\n",
              "      <td>-0.359125</td>\n",
              "      <td>-1.073927</td>\n",
              "      <td>-0.000746</td>\n",
              "      <td>-0.113952</td>\n",
              "      <td>...</td>\n",
              "      <td>0.359123</td>\n",
              "      <td>1.080480</td>\n",
              "      <td>0.076285</td>\n",
              "      <td>-0.295380</td>\n",
              "      <td>-0.138017</td>\n",
              "      <td>-0.088578</td>\n",
              "      <td>0.005407</td>\n",
              "      <td>-0.059745</td>\n",
              "      <td>19.95</td>\n",
              "      <td>0</td>\n",
              "    </tr>\n",
              "    <tr>\n",
              "      <th>981</th>\n",
              "      <td>127824.0</td>\n",
              "      <td>0.488722</td>\n",
              "      <td>1.039265</td>\n",
              "      <td>-0.488136</td>\n",
              "      <td>1.270368</td>\n",
              "      <td>0.415800</td>\n",
              "      <td>-0.940575</td>\n",
              "      <td>0.936812</td>\n",
              "      <td>-0.410632</td>\n",
              "      <td>-0.569363</td>\n",
              "      <td>...</td>\n",
              "      <td>0.421984</td>\n",
              "      <td>1.472289</td>\n",
              "      <td>-0.005639</td>\n",
              "      <td>0.040475</td>\n",
              "      <td>-1.124174</td>\n",
              "      <td>0.128788</td>\n",
              "      <td>0.345545</td>\n",
              "      <td>0.316235</td>\n",
              "      <td>47.18</td>\n",
              "      <td>0</td>\n",
              "    </tr>\n",
              "    <tr>\n",
              "      <th>982</th>\n",
              "      <td>153385.0</td>\n",
              "      <td>2.055887</td>\n",
              "      <td>-0.793772</td>\n",
              "      <td>-0.322353</td>\n",
              "      <td>-0.216264</td>\n",
              "      <td>-1.112202</td>\n",
              "      <td>-0.664867</td>\n",
              "      <td>-0.757331</td>\n",
              "      <td>-0.126868</td>\n",
              "      <td>0.110988</td>\n",
              "      <td>...</td>\n",
              "      <td>-0.567928</td>\n",
              "      <td>-1.045090</td>\n",
              "      <td>0.461750</td>\n",
              "      <td>-0.098720</td>\n",
              "      <td>-0.559900</td>\n",
              "      <td>-0.661451</td>\n",
              "      <td>0.058138</td>\n",
              "      <td>-0.023431</td>\n",
              "      <td>25.97</td>\n",
              "      <td>0</td>\n",
              "    </tr>\n",
              "    <tr>\n",
              "      <th>983</th>\n",
              "      <td>75465.0</td>\n",
              "      <td>-0.558992</td>\n",
              "      <td>0.827252</td>\n",
              "      <td>1.746995</td>\n",
              "      <td>0.879918</td>\n",
              "      <td>-0.118200</td>\n",
              "      <td>-0.090725</td>\n",
              "      <td>1.380377</td>\n",
              "      <td>-0.334685</td>\n",
              "      <td>-0.265729</td>\n",
              "      <td>...</td>\n",
              "      <td>-0.023251</td>\n",
              "      <td>0.327220</td>\n",
              "      <td>-0.089572</td>\n",
              "      <td>0.630594</td>\n",
              "      <td>0.138687</td>\n",
              "      <td>-0.426980</td>\n",
              "      <td>-0.157395</td>\n",
              "      <td>-0.189037</td>\n",
              "      <td>100.79</td>\n",
              "      <td>0</td>\n",
              "    </tr>\n",
              "  </tbody>\n",
              "</table>\n",
              "<p>984 rows × 31 columns</p>\n",
              "</div>\n",
              "      <button class=\"colab-df-convert\" onclick=\"convertToInteractive('df-cec438fb-eab6-4f86-b9d7-7d372f140712')\"\n",
              "              title=\"Convert this dataframe to an interactive table.\"\n",
              "              style=\"display:none;\">\n",
              "        \n",
              "  <svg xmlns=\"http://www.w3.org/2000/svg\" height=\"24px\"viewBox=\"0 0 24 24\"\n",
              "       width=\"24px\">\n",
              "    <path d=\"M0 0h24v24H0V0z\" fill=\"none\"/>\n",
              "    <path d=\"M18.56 5.44l.94 2.06.94-2.06 2.06-.94-2.06-.94-.94-2.06-.94 2.06-2.06.94zm-11 1L8.5 8.5l.94-2.06 2.06-.94-2.06-.94L8.5 2.5l-.94 2.06-2.06.94zm10 10l.94 2.06.94-2.06 2.06-.94-2.06-.94-.94-2.06-.94 2.06-2.06.94z\"/><path d=\"M17.41 7.96l-1.37-1.37c-.4-.4-.92-.59-1.43-.59-.52 0-1.04.2-1.43.59L10.3 9.45l-7.72 7.72c-.78.78-.78 2.05 0 2.83L4 21.41c.39.39.9.59 1.41.59.51 0 1.02-.2 1.41-.59l7.78-7.78 2.81-2.81c.8-.78.8-2.07 0-2.86zM5.41 20L4 18.59l7.72-7.72 1.47 1.35L5.41 20z\"/>\n",
              "  </svg>\n",
              "      </button>\n",
              "      \n",
              "  <style>\n",
              "    .colab-df-container {\n",
              "      display:flex;\n",
              "      flex-wrap:wrap;\n",
              "      gap: 12px;\n",
              "    }\n",
              "\n",
              "    .colab-df-convert {\n",
              "      background-color: #E8F0FE;\n",
              "      border: none;\n",
              "      border-radius: 50%;\n",
              "      cursor: pointer;\n",
              "      display: none;\n",
              "      fill: #1967D2;\n",
              "      height: 32px;\n",
              "      padding: 0 0 0 0;\n",
              "      width: 32px;\n",
              "    }\n",
              "\n",
              "    .colab-df-convert:hover {\n",
              "      background-color: #E2EBFA;\n",
              "      box-shadow: 0px 1px 2px rgba(60, 64, 67, 0.3), 0px 1px 3px 1px rgba(60, 64, 67, 0.15);\n",
              "      fill: #174EA6;\n",
              "    }\n",
              "\n",
              "    [theme=dark] .colab-df-convert {\n",
              "      background-color: #3B4455;\n",
              "      fill: #D2E3FC;\n",
              "    }\n",
              "\n",
              "    [theme=dark] .colab-df-convert:hover {\n",
              "      background-color: #434B5C;\n",
              "      box-shadow: 0px 1px 3px 1px rgba(0, 0, 0, 0.15);\n",
              "      filter: drop-shadow(0px 1px 2px rgba(0, 0, 0, 0.3));\n",
              "      fill: #FFFFFF;\n",
              "    }\n",
              "  </style>\n",
              "\n",
              "      <script>\n",
              "        const buttonEl =\n",
              "          document.querySelector('#df-cec438fb-eab6-4f86-b9d7-7d372f140712 button.colab-df-convert');\n",
              "        buttonEl.style.display =\n",
              "          google.colab.kernel.accessAllowed ? 'block' : 'none';\n",
              "\n",
              "        async function convertToInteractive(key) {\n",
              "          const element = document.querySelector('#df-cec438fb-eab6-4f86-b9d7-7d372f140712');\n",
              "          const dataTable =\n",
              "            await google.colab.kernel.invokeFunction('convertToInteractive',\n",
              "                                                     [key], {});\n",
              "          if (!dataTable) return;\n",
              "\n",
              "          const docLinkHtml = 'Like what you see? Visit the ' +\n",
              "            '<a target=\"_blank\" href=https://colab.research.google.com/notebooks/data_table.ipynb>data table notebook</a>'\n",
              "            + ' to learn more about interactive tables.';\n",
              "          element.innerHTML = '';\n",
              "          dataTable['output_type'] = 'display_data';\n",
              "          await google.colab.output.renderOutput(dataTable, element);\n",
              "          const docLink = document.createElement('div');\n",
              "          docLink.innerHTML = docLinkHtml;\n",
              "          element.appendChild(docLink);\n",
              "        }\n",
              "      </script>\n",
              "    </div>\n",
              "  </div>\n",
              "  "
            ]
          },
          "metadata": {},
          "execution_count": 418
        }
      ]
    },
    {
      "cell_type": "code",
      "source": [
        "# Now we can say that the data is balanced now and concated\n",
        "dataset.Class.value_counts()\n"
      ],
      "metadata": {
        "id": "_FqiVYRm28VC",
        "colab": {
          "base_uri": "https://localhost:8080/"
        },
        "outputId": "b6cea22c-994b-42c4-eda4-283863d98ce6"
      },
      "id": "_FqiVYRm28VC",
      "execution_count": 419,
      "outputs": [
        {
          "output_type": "execute_result",
          "data": {
            "text/plain": [
              "1    492\n",
              "0    492\n",
              "Name: Class, dtype: int64"
            ]
          },
          "metadata": {},
          "execution_count": 419
        }
      ]
    },
    {
      "cell_type": "code",
      "source": [
        "# now dividing the dataframe into dependent and independent varaible\n",
        "X=dataset.drop(['Class'], axis=1)\n",
        "Y=dataset['Class']"
      ],
      "metadata": {
        "id": "oqHlqG7S3OHh"
      },
      "id": "oqHlqG7S3OHh",
      "execution_count": 420,
      "outputs": []
    },
    {
      "cell_type": "code",
      "source": [
        "# we will divide the dataset into training and testing dataset\n",
        "X_train,X_test,Y_train,Y_test=train_test_split(X,Y,test_size=0.2,random_state=42)\n",
        "\n",
        "# check the shape\n",
        "X_train.shape,X_test.shape,Y_train.shape,Y_test.shape"
      ],
      "metadata": {
        "id": "Ui0uygiI3Qfu",
        "colab": {
          "base_uri": "https://localhost:8080/"
        },
        "outputId": "847dc1c0-80c7-4036-b2b0-0c07bf48d60d"
      },
      "id": "Ui0uygiI3Qfu",
      "execution_count": 421,
      "outputs": [
        {
          "output_type": "execute_result",
          "data": {
            "text/plain": [
              "((787, 30), (197, 30), (787,), (197,))"
            ]
          },
          "metadata": {},
          "execution_count": 421
        }
      ]
    },
    {
      "cell_type": "code",
      "source": [
        "X_train"
      ],
      "metadata": {
        "id": "J4bClYzF3muO",
        "colab": {
          "base_uri": "https://localhost:8080/",
          "height": 488
        },
        "outputId": "5c9f5f39-26e2-496e-f05d-132a471db338"
      },
      "id": "J4bClYzF3muO",
      "execution_count": 422,
      "outputs": [
        {
          "output_type": "execute_result",
          "data": {
            "text/plain": [
              "         Time        V1        V2        V3        V4         V5        V6  \\\n",
              "962   54459.0 -2.884332  0.241184  1.818326  0.315422  -1.202576  2.674072   \n",
              "762   41442.0 -0.712745  1.019970  1.924390 -0.080574   0.714555 -0.378487   \n",
              "334  101051.0 -1.465316 -1.093377 -0.059768  1.064785  11.095089 -5.430971   \n",
              "889    3746.0 -1.843718 -1.547485  0.677809 -2.957196   3.748813  2.123703   \n",
              "529  149987.0 -1.284072  1.359745 -0.841675 -0.732379  -0.181001 -0.790682   \n",
              "..        ...       ...       ...       ...       ...        ...       ...   \n",
              "106   40662.0 -4.446847 -0.014793 -5.126307  6.945130   5.269255 -4.297177   \n",
              "270   84789.0 -1.430864 -0.802529  1.123320  0.389760  -0.281214 -0.055123   \n",
              "860   74867.0  1.539459 -0.879218 -0.483762 -1.787994  -0.353090  0.148580   \n",
              "435  150138.0 -2.150855  2.187917 -3.430516  0.119476  -0.173210  0.290700   \n",
              "102   37167.0 -7.923891 -5.198360 -3.000024  4.420666   2.272194 -3.394483   \n",
              "\n",
              "           V7        V8        V9  ...       V20       V21       V22  \\\n",
              "962 -0.089243  0.822562  1.506324  ... -0.565387  0.008613  0.851010   \n",
              "762  1.240600 -0.251639 -0.645091  ... -0.029557  0.067341  0.352713   \n",
              "334 -9.378025 -0.446456  1.992110  ... -1.457610  1.160623 -1.259697   \n",
              "889 -1.314584  0.954961 -0.072010  ...  0.483555 -0.114014 -1.012870   \n",
              "529  0.156909  0.865815 -0.102711  ... -0.065835 -0.231516 -0.658556   \n",
              "..        ...       ...       ...  ...       ...       ...       ...   \n",
              "106 -2.591242  0.342671 -3.880663  ... -0.108006  0.247913 -0.049586   \n",
              "270  1.326232  0.195700 -0.546890  ...  0.634184  0.325575  0.014002   \n",
              "860 -0.658196 -0.038848 -2.410444  ... -0.303392 -0.499150 -1.082874   \n",
              "435 -2.808988 -2.679351 -0.556685  ...  0.532145 -0.073205  0.561496   \n",
              "102 -5.283435  0.131619  0.658176  ... -2.169811 -0.734308 -0.599926   \n",
              "\n",
              "           V23       V24       V25       V26       V27       V28  Amount  \n",
              "962  -0.775485 -1.220964  0.557297 -0.271863 -1.566743 -0.994205  175.00  \n",
              "762  -0.408705  0.090399  0.615330 -0.408993 -0.116134 -0.162332   13.00  \n",
              "334 -15.981649 -0.883670 -3.536716 -0.592965  0.675525  0.424849    0.92  \n",
              "889   0.118881  0.885744  0.587884 -0.747109 -0.090824  0.074353   15.96  \n",
              "529   0.177418 -0.368716 -0.347859  0.159441  0.252432 -0.000862   17.99  \n",
              "..         ...       ...       ...       ...       ...       ...     ...  \n",
              "106  -0.226017 -0.401236  0.856124  0.661272  0.492560  0.971834    1.00  \n",
              "270   0.844946  0.114963  0.156365 -0.619437 -0.120351  0.035594  354.33  \n",
              "860   0.020818 -1.202758  0.401420 -0.365726  0.015818 -0.009061   15.75  \n",
              "435  -0.075034 -0.437619  0.353841 -0.521339  0.144465  0.026588   50.00  \n",
              "102  -4.908301  0.410170 -1.167660  0.520508  1.937421 -1.552593   12.31  \n",
              "\n",
              "[787 rows x 30 columns]"
            ],
            "text/html": [
              "\n",
              "  <div id=\"df-3034403d-66f2-4d9c-8ece-6a9bbaae20e5\">\n",
              "    <div class=\"colab-df-container\">\n",
              "      <div>\n",
              "<style scoped>\n",
              "    .dataframe tbody tr th:only-of-type {\n",
              "        vertical-align: middle;\n",
              "    }\n",
              "\n",
              "    .dataframe tbody tr th {\n",
              "        vertical-align: top;\n",
              "    }\n",
              "\n",
              "    .dataframe thead th {\n",
              "        text-align: right;\n",
              "    }\n",
              "</style>\n",
              "<table border=\"1\" class=\"dataframe\">\n",
              "  <thead>\n",
              "    <tr style=\"text-align: right;\">\n",
              "      <th></th>\n",
              "      <th>Time</th>\n",
              "      <th>V1</th>\n",
              "      <th>V2</th>\n",
              "      <th>V3</th>\n",
              "      <th>V4</th>\n",
              "      <th>V5</th>\n",
              "      <th>V6</th>\n",
              "      <th>V7</th>\n",
              "      <th>V8</th>\n",
              "      <th>V9</th>\n",
              "      <th>...</th>\n",
              "      <th>V20</th>\n",
              "      <th>V21</th>\n",
              "      <th>V22</th>\n",
              "      <th>V23</th>\n",
              "      <th>V24</th>\n",
              "      <th>V25</th>\n",
              "      <th>V26</th>\n",
              "      <th>V27</th>\n",
              "      <th>V28</th>\n",
              "      <th>Amount</th>\n",
              "    </tr>\n",
              "  </thead>\n",
              "  <tbody>\n",
              "    <tr>\n",
              "      <th>962</th>\n",
              "      <td>54459.0</td>\n",
              "      <td>-2.884332</td>\n",
              "      <td>0.241184</td>\n",
              "      <td>1.818326</td>\n",
              "      <td>0.315422</td>\n",
              "      <td>-1.202576</td>\n",
              "      <td>2.674072</td>\n",
              "      <td>-0.089243</td>\n",
              "      <td>0.822562</td>\n",
              "      <td>1.506324</td>\n",
              "      <td>...</td>\n",
              "      <td>-0.565387</td>\n",
              "      <td>0.008613</td>\n",
              "      <td>0.851010</td>\n",
              "      <td>-0.775485</td>\n",
              "      <td>-1.220964</td>\n",
              "      <td>0.557297</td>\n",
              "      <td>-0.271863</td>\n",
              "      <td>-1.566743</td>\n",
              "      <td>-0.994205</td>\n",
              "      <td>175.00</td>\n",
              "    </tr>\n",
              "    <tr>\n",
              "      <th>762</th>\n",
              "      <td>41442.0</td>\n",
              "      <td>-0.712745</td>\n",
              "      <td>1.019970</td>\n",
              "      <td>1.924390</td>\n",
              "      <td>-0.080574</td>\n",
              "      <td>0.714555</td>\n",
              "      <td>-0.378487</td>\n",
              "      <td>1.240600</td>\n",
              "      <td>-0.251639</td>\n",
              "      <td>-0.645091</td>\n",
              "      <td>...</td>\n",
              "      <td>-0.029557</td>\n",
              "      <td>0.067341</td>\n",
              "      <td>0.352713</td>\n",
              "      <td>-0.408705</td>\n",
              "      <td>0.090399</td>\n",
              "      <td>0.615330</td>\n",
              "      <td>-0.408993</td>\n",
              "      <td>-0.116134</td>\n",
              "      <td>-0.162332</td>\n",
              "      <td>13.00</td>\n",
              "    </tr>\n",
              "    <tr>\n",
              "      <th>334</th>\n",
              "      <td>101051.0</td>\n",
              "      <td>-1.465316</td>\n",
              "      <td>-1.093377</td>\n",
              "      <td>-0.059768</td>\n",
              "      <td>1.064785</td>\n",
              "      <td>11.095089</td>\n",
              "      <td>-5.430971</td>\n",
              "      <td>-9.378025</td>\n",
              "      <td>-0.446456</td>\n",
              "      <td>1.992110</td>\n",
              "      <td>...</td>\n",
              "      <td>-1.457610</td>\n",
              "      <td>1.160623</td>\n",
              "      <td>-1.259697</td>\n",
              "      <td>-15.981649</td>\n",
              "      <td>-0.883670</td>\n",
              "      <td>-3.536716</td>\n",
              "      <td>-0.592965</td>\n",
              "      <td>0.675525</td>\n",
              "      <td>0.424849</td>\n",
              "      <td>0.92</td>\n",
              "    </tr>\n",
              "    <tr>\n",
              "      <th>889</th>\n",
              "      <td>3746.0</td>\n",
              "      <td>-1.843718</td>\n",
              "      <td>-1.547485</td>\n",
              "      <td>0.677809</td>\n",
              "      <td>-2.957196</td>\n",
              "      <td>3.748813</td>\n",
              "      <td>2.123703</td>\n",
              "      <td>-1.314584</td>\n",
              "      <td>0.954961</td>\n",
              "      <td>-0.072010</td>\n",
              "      <td>...</td>\n",
              "      <td>0.483555</td>\n",
              "      <td>-0.114014</td>\n",
              "      <td>-1.012870</td>\n",
              "      <td>0.118881</td>\n",
              "      <td>0.885744</td>\n",
              "      <td>0.587884</td>\n",
              "      <td>-0.747109</td>\n",
              "      <td>-0.090824</td>\n",
              "      <td>0.074353</td>\n",
              "      <td>15.96</td>\n",
              "    </tr>\n",
              "    <tr>\n",
              "      <th>529</th>\n",
              "      <td>149987.0</td>\n",
              "      <td>-1.284072</td>\n",
              "      <td>1.359745</td>\n",
              "      <td>-0.841675</td>\n",
              "      <td>-0.732379</td>\n",
              "      <td>-0.181001</td>\n",
              "      <td>-0.790682</td>\n",
              "      <td>0.156909</td>\n",
              "      <td>0.865815</td>\n",
              "      <td>-0.102711</td>\n",
              "      <td>...</td>\n",
              "      <td>-0.065835</td>\n",
              "      <td>-0.231516</td>\n",
              "      <td>-0.658556</td>\n",
              "      <td>0.177418</td>\n",
              "      <td>-0.368716</td>\n",
              "      <td>-0.347859</td>\n",
              "      <td>0.159441</td>\n",
              "      <td>0.252432</td>\n",
              "      <td>-0.000862</td>\n",
              "      <td>17.99</td>\n",
              "    </tr>\n",
              "    <tr>\n",
              "      <th>...</th>\n",
              "      <td>...</td>\n",
              "      <td>...</td>\n",
              "      <td>...</td>\n",
              "      <td>...</td>\n",
              "      <td>...</td>\n",
              "      <td>...</td>\n",
              "      <td>...</td>\n",
              "      <td>...</td>\n",
              "      <td>...</td>\n",
              "      <td>...</td>\n",
              "      <td>...</td>\n",
              "      <td>...</td>\n",
              "      <td>...</td>\n",
              "      <td>...</td>\n",
              "      <td>...</td>\n",
              "      <td>...</td>\n",
              "      <td>...</td>\n",
              "      <td>...</td>\n",
              "      <td>...</td>\n",
              "      <td>...</td>\n",
              "      <td>...</td>\n",
              "    </tr>\n",
              "    <tr>\n",
              "      <th>106</th>\n",
              "      <td>40662.0</td>\n",
              "      <td>-4.446847</td>\n",
              "      <td>-0.014793</td>\n",
              "      <td>-5.126307</td>\n",
              "      <td>6.945130</td>\n",
              "      <td>5.269255</td>\n",
              "      <td>-4.297177</td>\n",
              "      <td>-2.591242</td>\n",
              "      <td>0.342671</td>\n",
              "      <td>-3.880663</td>\n",
              "      <td>...</td>\n",
              "      <td>-0.108006</td>\n",
              "      <td>0.247913</td>\n",
              "      <td>-0.049586</td>\n",
              "      <td>-0.226017</td>\n",
              "      <td>-0.401236</td>\n",
              "      <td>0.856124</td>\n",
              "      <td>0.661272</td>\n",
              "      <td>0.492560</td>\n",
              "      <td>0.971834</td>\n",
              "      <td>1.00</td>\n",
              "    </tr>\n",
              "    <tr>\n",
              "      <th>270</th>\n",
              "      <td>84789.0</td>\n",
              "      <td>-1.430864</td>\n",
              "      <td>-0.802529</td>\n",
              "      <td>1.123320</td>\n",
              "      <td>0.389760</td>\n",
              "      <td>-0.281214</td>\n",
              "      <td>-0.055123</td>\n",
              "      <td>1.326232</td>\n",
              "      <td>0.195700</td>\n",
              "      <td>-0.546890</td>\n",
              "      <td>...</td>\n",
              "      <td>0.634184</td>\n",
              "      <td>0.325575</td>\n",
              "      <td>0.014002</td>\n",
              "      <td>0.844946</td>\n",
              "      <td>0.114963</td>\n",
              "      <td>0.156365</td>\n",
              "      <td>-0.619437</td>\n",
              "      <td>-0.120351</td>\n",
              "      <td>0.035594</td>\n",
              "      <td>354.33</td>\n",
              "    </tr>\n",
              "    <tr>\n",
              "      <th>860</th>\n",
              "      <td>74867.0</td>\n",
              "      <td>1.539459</td>\n",
              "      <td>-0.879218</td>\n",
              "      <td>-0.483762</td>\n",
              "      <td>-1.787994</td>\n",
              "      <td>-0.353090</td>\n",
              "      <td>0.148580</td>\n",
              "      <td>-0.658196</td>\n",
              "      <td>-0.038848</td>\n",
              "      <td>-2.410444</td>\n",
              "      <td>...</td>\n",
              "      <td>-0.303392</td>\n",
              "      <td>-0.499150</td>\n",
              "      <td>-1.082874</td>\n",
              "      <td>0.020818</td>\n",
              "      <td>-1.202758</td>\n",
              "      <td>0.401420</td>\n",
              "      <td>-0.365726</td>\n",
              "      <td>0.015818</td>\n",
              "      <td>-0.009061</td>\n",
              "      <td>15.75</td>\n",
              "    </tr>\n",
              "    <tr>\n",
              "      <th>435</th>\n",
              "      <td>150138.0</td>\n",
              "      <td>-2.150855</td>\n",
              "      <td>2.187917</td>\n",
              "      <td>-3.430516</td>\n",
              "      <td>0.119476</td>\n",
              "      <td>-0.173210</td>\n",
              "      <td>0.290700</td>\n",
              "      <td>-2.808988</td>\n",
              "      <td>-2.679351</td>\n",
              "      <td>-0.556685</td>\n",
              "      <td>...</td>\n",
              "      <td>0.532145</td>\n",
              "      <td>-0.073205</td>\n",
              "      <td>0.561496</td>\n",
              "      <td>-0.075034</td>\n",
              "      <td>-0.437619</td>\n",
              "      <td>0.353841</td>\n",
              "      <td>-0.521339</td>\n",
              "      <td>0.144465</td>\n",
              "      <td>0.026588</td>\n",
              "      <td>50.00</td>\n",
              "    </tr>\n",
              "    <tr>\n",
              "      <th>102</th>\n",
              "      <td>37167.0</td>\n",
              "      <td>-7.923891</td>\n",
              "      <td>-5.198360</td>\n",
              "      <td>-3.000024</td>\n",
              "      <td>4.420666</td>\n",
              "      <td>2.272194</td>\n",
              "      <td>-3.394483</td>\n",
              "      <td>-5.283435</td>\n",
              "      <td>0.131619</td>\n",
              "      <td>0.658176</td>\n",
              "      <td>...</td>\n",
              "      <td>-2.169811</td>\n",
              "      <td>-0.734308</td>\n",
              "      <td>-0.599926</td>\n",
              "      <td>-4.908301</td>\n",
              "      <td>0.410170</td>\n",
              "      <td>-1.167660</td>\n",
              "      <td>0.520508</td>\n",
              "      <td>1.937421</td>\n",
              "      <td>-1.552593</td>\n",
              "      <td>12.31</td>\n",
              "    </tr>\n",
              "  </tbody>\n",
              "</table>\n",
              "<p>787 rows × 30 columns</p>\n",
              "</div>\n",
              "      <button class=\"colab-df-convert\" onclick=\"convertToInteractive('df-3034403d-66f2-4d9c-8ece-6a9bbaae20e5')\"\n",
              "              title=\"Convert this dataframe to an interactive table.\"\n",
              "              style=\"display:none;\">\n",
              "        \n",
              "  <svg xmlns=\"http://www.w3.org/2000/svg\" height=\"24px\"viewBox=\"0 0 24 24\"\n",
              "       width=\"24px\">\n",
              "    <path d=\"M0 0h24v24H0V0z\" fill=\"none\"/>\n",
              "    <path d=\"M18.56 5.44l.94 2.06.94-2.06 2.06-.94-2.06-.94-.94-2.06-.94 2.06-2.06.94zm-11 1L8.5 8.5l.94-2.06 2.06-.94-2.06-.94L8.5 2.5l-.94 2.06-2.06.94zm10 10l.94 2.06.94-2.06 2.06-.94-2.06-.94-.94-2.06-.94 2.06-2.06.94z\"/><path d=\"M17.41 7.96l-1.37-1.37c-.4-.4-.92-.59-1.43-.59-.52 0-1.04.2-1.43.59L10.3 9.45l-7.72 7.72c-.78.78-.78 2.05 0 2.83L4 21.41c.39.39.9.59 1.41.59.51 0 1.02-.2 1.41-.59l7.78-7.78 2.81-2.81c.8-.78.8-2.07 0-2.86zM5.41 20L4 18.59l7.72-7.72 1.47 1.35L5.41 20z\"/>\n",
              "  </svg>\n",
              "      </button>\n",
              "      \n",
              "  <style>\n",
              "    .colab-df-container {\n",
              "      display:flex;\n",
              "      flex-wrap:wrap;\n",
              "      gap: 12px;\n",
              "    }\n",
              "\n",
              "    .colab-df-convert {\n",
              "      background-color: #E8F0FE;\n",
              "      border: none;\n",
              "      border-radius: 50%;\n",
              "      cursor: pointer;\n",
              "      display: none;\n",
              "      fill: #1967D2;\n",
              "      height: 32px;\n",
              "      padding: 0 0 0 0;\n",
              "      width: 32px;\n",
              "    }\n",
              "\n",
              "    .colab-df-convert:hover {\n",
              "      background-color: #E2EBFA;\n",
              "      box-shadow: 0px 1px 2px rgba(60, 64, 67, 0.3), 0px 1px 3px 1px rgba(60, 64, 67, 0.15);\n",
              "      fill: #174EA6;\n",
              "    }\n",
              "\n",
              "    [theme=dark] .colab-df-convert {\n",
              "      background-color: #3B4455;\n",
              "      fill: #D2E3FC;\n",
              "    }\n",
              "\n",
              "    [theme=dark] .colab-df-convert:hover {\n",
              "      background-color: #434B5C;\n",
              "      box-shadow: 0px 1px 3px 1px rgba(0, 0, 0, 0.15);\n",
              "      filter: drop-shadow(0px 1px 2px rgba(0, 0, 0, 0.3));\n",
              "      fill: #FFFFFF;\n",
              "    }\n",
              "  </style>\n",
              "\n",
              "      <script>\n",
              "        const buttonEl =\n",
              "          document.querySelector('#df-3034403d-66f2-4d9c-8ece-6a9bbaae20e5 button.colab-df-convert');\n",
              "        buttonEl.style.display =\n",
              "          google.colab.kernel.accessAllowed ? 'block' : 'none';\n",
              "\n",
              "        async function convertToInteractive(key) {\n",
              "          const element = document.querySelector('#df-3034403d-66f2-4d9c-8ece-6a9bbaae20e5');\n",
              "          const dataTable =\n",
              "            await google.colab.kernel.invokeFunction('convertToInteractive',\n",
              "                                                     [key], {});\n",
              "          if (!dataTable) return;\n",
              "\n",
              "          const docLinkHtml = 'Like what you see? Visit the ' +\n",
              "            '<a target=\"_blank\" href=https://colab.research.google.com/notebooks/data_table.ipynb>data table notebook</a>'\n",
              "            + ' to learn more about interactive tables.';\n",
              "          element.innerHTML = '';\n",
              "          dataTable['output_type'] = 'display_data';\n",
              "          await google.colab.output.renderOutput(dataTable, element);\n",
              "          const docLink = document.createElement('div');\n",
              "          docLink.innerHTML = docLinkHtml;\n",
              "          element.appendChild(docLink);\n",
              "        }\n",
              "      </script>\n",
              "    </div>\n",
              "  </div>\n",
              "  "
            ]
          },
          "metadata": {},
          "execution_count": 422
        }
      ]
    },
    {
      "cell_type": "markdown",
      "source": [
        "We can see that our data is highly varied, we need to scale our data.\n",
        "\n",
        "We will scale our data using Standard Scaler"
      ],
      "metadata": {
        "id": "qFlNT39p3z_5"
      },
      "id": "qFlNT39p3z_5"
    },
    {
      "cell_type": "code",
      "source": [
        "# scaling our dataset\n",
        "scaler=StandardScaler()\n",
        "X_train=scaler.fit_transform(X_train)\n",
        "X_test=scaler.fit_transform(X_test)"
      ],
      "metadata": {
        "id": "5p0qoApa31AB"
      },
      "id": "5p0qoApa31AB",
      "execution_count": 423,
      "outputs": []
    },
    {
      "cell_type": "code",
      "source": [
        "# converting into numpy array\n",
        "Y_train=Y_train.to_numpy()\n",
        "Y_test=Y_test.to_numpy()"
      ],
      "metadata": {
        "id": "HUl-vu984CXh"
      },
      "id": "HUl-vu984CXh",
      "execution_count": 424,
      "outputs": []
    },
    {
      "cell_type": "markdown",
      "source": [
        "Here we will have to change the shape so that our model can process the data"
      ],
      "metadata": {
        "id": "kixrtAJ54q6q"
      },
      "id": "kixrtAJ54q6q"
    },
    {
      "cell_type": "code",
      "source": [
        "# useful transformation\n",
        "X_train=X_train.reshape(X_train.shape[0],X_train.shape[1],1)\n",
        "X_test=X_test.reshape(X_test.shape[0],X_test.shape[1],1)\n",
        "\n",
        "# check the shape again\n",
        "X_train.shape, X_test.shape"
      ],
      "metadata": {
        "id": "u9YYDyZZ4Rc6",
        "colab": {
          "base_uri": "https://localhost:8080/"
        },
        "outputId": "5ace85de-c8b6-42ff-c8f9-216c91c51bd3"
      },
      "id": "u9YYDyZZ4Rc6",
      "execution_count": 425,
      "outputs": [
        {
          "output_type": "execute_result",
          "data": {
            "text/plain": [
              "((787, 30, 1), (197, 30, 1))"
            ]
          },
          "metadata": {},
          "execution_count": 425
        }
      ]
    },
    {
      "cell_type": "markdown",
      "source": [
        "#Now we will build our Model"
      ],
      "metadata": {
        "id": "NbOtbSxG5fWm"
      },
      "id": "NbOtbSxG5fWm"
    },
    {
      "cell_type": "code",
      "source": [
        "# import the libraries\n",
        "from keras.models import Sequential\n",
        "from keras.layers import Dense,Flatten,Conv1D,BatchNormalization,Dropout"
      ],
      "metadata": {
        "id": "DxgV241j5lyy"
      },
      "id": "DxgV241j5lyy",
      "execution_count": 426,
      "outputs": []
    },
    {
      "cell_type": "code",
      "source": [
        "# import model\n",
        "model=Sequential()\n",
        "# layers\n",
        "model.add(Conv1D(filters=32, kernel_size=2, activation='relu', input_shape=X_train[0].shape))\n",
        "model.add(BatchNormalization())\n",
        "model.add(Dropout(0.2))\n",
        "\n",
        "model.add(Conv1D(filters=64, kernel_size=2, activation='relu'))\n",
        "model.add(BatchNormalization())\n",
        "model.add(Dropout(0.2))\n",
        "\n",
        "# build ANN\n",
        "model.add(Flatten())\n",
        "model.add(Dense(64, activation='relu'))\n",
        "model.add(Dropout(0.5))\n",
        "model.add(Dense(1, activation='relu'))"
      ],
      "metadata": {
        "id": "2Qf4zXTC56Sm"
      },
      "id": "2Qf4zXTC56Sm",
      "execution_count": 427,
      "outputs": []
    },
    {
      "cell_type": "code",
      "source": [
        "# summary\n",
        "model.summary()"
      ],
      "metadata": {
        "id": "tgqBH5RR6S2j",
        "colab": {
          "base_uri": "https://localhost:8080/"
        },
        "outputId": "d97385a0-1e67-4d88-9663-a153c6e2a0b0"
      },
      "id": "tgqBH5RR6S2j",
      "execution_count": 428,
      "outputs": [
        {
          "output_type": "stream",
          "name": "stdout",
          "text": [
            "Model: \"sequential_23\"\n",
            "_________________________________________________________________\n",
            " Layer (type)                Output Shape              Param #   \n",
            "=================================================================\n",
            " conv1d_46 (Conv1D)          (None, 29, 32)            96        \n",
            "                                                                 \n",
            " batch_normalization_46 (Bat  (None, 29, 32)           128       \n",
            " chNormalization)                                                \n",
            "                                                                 \n",
            " dropout_69 (Dropout)        (None, 29, 32)            0         \n",
            "                                                                 \n",
            " conv1d_47 (Conv1D)          (None, 28, 64)            4160      \n",
            "                                                                 \n",
            " batch_normalization_47 (Bat  (None, 28, 64)           256       \n",
            " chNormalization)                                                \n",
            "                                                                 \n",
            " dropout_70 (Dropout)        (None, 28, 64)            0         \n",
            "                                                                 \n",
            " flatten_23 (Flatten)        (None, 1792)              0         \n",
            "                                                                 \n",
            " dense_46 (Dense)            (None, 64)                114752    \n",
            "                                                                 \n",
            " dropout_71 (Dropout)        (None, 64)                0         \n",
            "                                                                 \n",
            " dense_47 (Dense)            (None, 1)                 65        \n",
            "                                                                 \n",
            "=================================================================\n",
            "Total params: 119,457\n",
            "Trainable params: 119,265\n",
            "Non-trainable params: 192\n",
            "_________________________________________________________________\n"
          ]
        }
      ]
    },
    {
      "cell_type": "code",
      "source": [
        "# compile the model\n",
        "model.compile(optimizer='adam', loss='binary_crossentropy', metrics=['accuracy'])"
      ],
      "metadata": {
        "id": "iAoepc896Xk4"
      },
      "id": "iAoepc896Xk4",
      "execution_count": 429,
      "outputs": []
    },
    {
      "cell_type": "code",
      "source": [
        "%%time\n",
        "# fitting the model\n",
        "model_his=model.fit(X_train,Y_train,epochs=20,validation_data=(X_test,Y_test))"
      ],
      "metadata": {
        "id": "3v2tIm646esR",
        "colab": {
          "base_uri": "https://localhost:8080/"
        },
        "outputId": "94ad9bf7-15d0-4274-a872-71bd2512fc71"
      },
      "id": "3v2tIm646esR",
      "execution_count": 430,
      "outputs": [
        {
          "output_type": "stream",
          "name": "stdout",
          "text": [
            "Epoch 1/20\n",
            "25/25 [==============================] - 2s 17ms/step - loss: 2.0290 - accuracy: 0.8412 - val_loss: 1.3862 - val_accuracy: 0.7462\n",
            "Epoch 2/20\n",
            "25/25 [==============================] - 0s 11ms/step - loss: 1.1335 - accuracy: 0.9174 - val_loss: 0.2616 - val_accuracy: 0.9543\n",
            "Epoch 3/20\n",
            "25/25 [==============================] - 0s 10ms/step - loss: 1.1367 - accuracy: 0.9060 - val_loss: 1.4172 - val_accuracy: 0.5990\n",
            "Epoch 4/20\n",
            "25/25 [==============================] - 0s 9ms/step - loss: 1.2954 - accuracy: 0.9085 - val_loss: 1.2260 - val_accuracy: 0.9086\n",
            "Epoch 5/20\n",
            "25/25 [==============================] - 0s 9ms/step - loss: 1.4739 - accuracy: 0.9034 - val_loss: 1.1918 - val_accuracy: 0.9137\n",
            "Epoch 6/20\n",
            "25/25 [==============================] - 0s 10ms/step - loss: 1.3214 - accuracy: 0.9111 - val_loss: 0.8220 - val_accuracy: 0.9188\n",
            "Epoch 7/20\n",
            "25/25 [==============================] - 0s 10ms/step - loss: 1.1264 - accuracy: 0.9212 - val_loss: 0.3929 - val_accuracy: 0.9086\n",
            "Epoch 8/20\n",
            "25/25 [==============================] - 0s 10ms/step - loss: 1.0715 - accuracy: 0.9276 - val_loss: 4.2024 - val_accuracy: 0.6041\n",
            "Epoch 9/20\n",
            "25/25 [==============================] - 0s 9ms/step - loss: 1.3449 - accuracy: 0.9047 - val_loss: 2.8018 - val_accuracy: 0.6853\n",
            "Epoch 10/20\n",
            "25/25 [==============================] - 0s 10ms/step - loss: 1.4650 - accuracy: 0.8945 - val_loss: 6.4572 - val_accuracy: 0.5381\n",
            "Epoch 11/20\n",
            "25/25 [==============================] - 0s 10ms/step - loss: 1.2008 - accuracy: 0.9174 - val_loss: 3.3182 - val_accuracy: 0.7208\n",
            "Epoch 12/20\n",
            "25/25 [==============================] - 0s 11ms/step - loss: 1.2334 - accuracy: 0.9187 - val_loss: 1.7957 - val_accuracy: 0.8477\n",
            "Epoch 13/20\n",
            "25/25 [==============================] - 0s 13ms/step - loss: 1.1273 - accuracy: 0.9212 - val_loss: 0.9514 - val_accuracy: 0.9289\n",
            "Epoch 14/20\n",
            "25/25 [==============================] - 0s 10ms/step - loss: 1.0697 - accuracy: 0.9250 - val_loss: 0.7267 - val_accuracy: 0.9391\n",
            "Epoch 15/20\n",
            "25/25 [==============================] - 0s 11ms/step - loss: 0.9542 - accuracy: 0.9301 - val_loss: 1.2837 - val_accuracy: 0.8985\n",
            "Epoch 16/20\n",
            "25/25 [==============================] - 0s 9ms/step - loss: 1.2053 - accuracy: 0.9149 - val_loss: 1.9605 - val_accuracy: 0.8579\n",
            "Epoch 17/20\n",
            "25/25 [==============================] - 0s 9ms/step - loss: 1.2443 - accuracy: 0.9136 - val_loss: 0.9762 - val_accuracy: 0.9137\n",
            "Epoch 18/20\n",
            "25/25 [==============================] - 0s 9ms/step - loss: 0.9098 - accuracy: 0.9339 - val_loss: 0.5530 - val_accuracy: 0.9594\n",
            "Epoch 19/20\n",
            "25/25 [==============================] - 0s 9ms/step - loss: 1.0967 - accuracy: 0.9276 - val_loss: 0.5505 - val_accuracy: 0.9645\n",
            "Epoch 20/20\n",
            "25/25 [==============================] - 0s 9ms/step - loss: 0.9719 - accuracy: 0.9263 - val_loss: 0.6309 - val_accuracy: 0.9594\n",
            "CPU times: user 7.64 s, sys: 563 ms, total: 8.2 s\n",
            "Wall time: 11.4 s\n"
          ]
        }
      ]
    },
    {
      "cell_type": "markdown",
      "source": [
        "we are successfully getting a decent accuracy of **96%** in the above Model"
      ],
      "metadata": {
        "id": "4aDTwH4a57Wb"
      },
      "id": "4aDTwH4a57Wb"
    },
    {
      "cell_type": "markdown",
      "source": [
        "Plotting Model accuracy and Model Loss"
      ],
      "metadata": {
        "id": "kadpj7YZ6Lc5"
      },
      "id": "kadpj7YZ6Lc5"
    },
    {
      "cell_type": "code",
      "source": [
        " # plot\n",
        "def plot_learningcurve(his,epochs):\n",
        "  epoch=range(1,epochs+1)\n",
        "  # accuracy\n",
        "  plt.plot(epoch, his.history['accuracy'])\n",
        "  plt.plot(epoch, his.history['val_accuracy'])\n",
        "  plt.title('Model accuracy')\n",
        "  plt.xlabel('epoch')\n",
        "  plt.ylabel('accuracy')\n",
        "  plt.legend(['train','val'], loc='upper left')\n",
        "  plt.show()\n",
        "\n",
        "  # loss\n",
        "  plt.plot(epoch, his.history['loss'])\n",
        "  plt.plot(epoch, his.history['val_loss'])\n",
        "  plt.title('Model loss')\n",
        "  plt.xlabel('epoch')\n",
        "  plt.ylabel('loss')\n",
        "  plt.legend(['train','val'], loc='upper left')\n",
        "  plt.show()"
      ],
      "metadata": {
        "id": "6T7wwMhR68s3"
      },
      "id": "6T7wwMhR68s3",
      "execution_count": 431,
      "outputs": []
    },
    {
      "cell_type": "code",
      "source": [
        "plot_learningcurve(model_his,20)"
      ],
      "metadata": {
        "id": "2FTZwiiv7NlB",
        "colab": {
          "base_uri": "https://localhost:8080/",
          "height": 573
        },
        "outputId": "2b460ca1-d4f7-46dd-d768-f1bcd66a6e28"
      },
      "id": "2FTZwiiv7NlB",
      "execution_count": 432,
      "outputs": [
        {
          "output_type": "display_data",
          "data": {
            "text/plain": [
              "<Figure size 432x288 with 1 Axes>"
            ],
            "image/png": "[encoded data removed]"
          },
          "metadata": {
            "needs_background": "light"
          }
        },
        {
          "output_type": "display_data",
          "data": {
            "text/plain": [
              "<Figure size 432x288 with 1 Axes>"
            ],
            "image/png": "[encoded data removed]"
          },
          "metadata": {
            "needs_background": "light"
          }
        }
      ]
    },
    {
      "cell_type": "code",
      "source": [
        ""
      ],
      "metadata": {
        "id": "GwiE4mr551lQ"
      },
      "id": "GwiE4mr551lQ",
      "execution_count": null,
      "outputs": []
    }
  ],
  "metadata": {
    "kernelspec": {
      "display_name": "Python 3 (ipykernel)",
      "language": "python",
      "name": "python3"
    },
    "language_info": {
      "codemirror_mode": {
        "name": "ipython",
        "version": 3
      },
      "file_extension": ".py",
      "mimetype": "text/x-python",
      "name": "python",
      "nbconvert_exporter": "python",
      "pygments_lexer": "ipython3",
      "version": "3.9.12"
    },
    "colab": {
      "name": "Credit Card Fraud Detection using CNN.ipynb",
      "provenance": [],
      "collapsed_sections": []
    }
  },
  "nbformat": 4,
  "nbformat_minor": 5
}